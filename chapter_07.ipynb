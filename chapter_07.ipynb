{
 "cells": [
  {
   "cell_type": "markdown",
   "metadata": {
    "deletable": true,
    "editable": true
   },
   "source": [
    "# Chapter 07 - Beta Binomial Regression\n",
    "### Setup Environment"
   ]
  },
  {
   "cell_type": "code",
   "execution_count": 1,
   "metadata": {
    "collapsed": false,
    "deletable": true,
    "editable": true
   },
   "outputs": [
    {
     "data": {
      "text/html": [
       "<div>\n",
       "<table border=\"1\" class=\"dataframe\">\n",
       "  <thead>\n",
       "    <tr style=\"text-align: right;\">\n",
       "      <th></th>\n",
       "      <th>name</th>\n",
       "      <th>H</th>\n",
       "      <th>AB</th>\n",
       "      <th>average</th>\n",
       "      <th>eb_estimate</th>\n",
       "      <th>alpha1</th>\n",
       "      <th>beta1</th>\n",
       "    </tr>\n",
       "    <tr>\n",
       "      <th>playerID</th>\n",
       "      <th></th>\n",
       "      <th></th>\n",
       "      <th></th>\n",
       "      <th></th>\n",
       "      <th></th>\n",
       "      <th></th>\n",
       "      <th></th>\n",
       "    </tr>\n",
       "  </thead>\n",
       "  <tbody>\n",
       "    <tr>\n",
       "      <th>aaronha01</th>\n",
       "      <td>Hank Aaron</td>\n",
       "      <td>3771</td>\n",
       "      <td>12364</td>\n",
       "      <td>0.304998</td>\n",
       "      <td>0.303943</td>\n",
       "      <td>3846.88</td>\n",
       "      <td>8809.69</td>\n",
       "    </tr>\n",
       "    <tr>\n",
       "      <th>aaronto01</th>\n",
       "      <td>Tommie Aaron</td>\n",
       "      <td>216</td>\n",
       "      <td>944</td>\n",
       "      <td>0.228814</td>\n",
       "      <td>0.236040</td>\n",
       "      <td>291.88</td>\n",
       "      <td>944.69</td>\n",
       "    </tr>\n",
       "    <tr>\n",
       "      <th>abadan01</th>\n",
       "      <td>Andy Abad</td>\n",
       "      <td>2</td>\n",
       "      <td>21</td>\n",
       "      <td>0.095238</td>\n",
       "      <td>0.248366</td>\n",
       "      <td>77.88</td>\n",
       "      <td>235.69</td>\n",
       "    </tr>\n",
       "    <tr>\n",
       "      <th>abadijo01</th>\n",
       "      <td>John Abadie</td>\n",
       "      <td>11</td>\n",
       "      <td>49</td>\n",
       "      <td>0.224490</td>\n",
       "      <td>0.254355</td>\n",
       "      <td>86.88</td>\n",
       "      <td>254.69</td>\n",
       "    </tr>\n",
       "    <tr>\n",
       "      <th>abbated01</th>\n",
       "      <td>Ed Abbaticchio</td>\n",
       "      <td>772</td>\n",
       "      <td>3044</td>\n",
       "      <td>0.253614</td>\n",
       "      <td>0.254117</td>\n",
       "      <td>847.88</td>\n",
       "      <td>2488.69</td>\n",
       "    </tr>\n",
       "  </tbody>\n",
       "</table>\n",
       "</div>"
      ],
      "text/plain": [
       "                     name     H     AB   average  eb_estimate   alpha1  \\\n",
       "playerID                                                                 \n",
       "aaronha01      Hank Aaron  3771  12364  0.304998     0.303943  3846.88   \n",
       "aaronto01    Tommie Aaron   216    944  0.228814     0.236040   291.88   \n",
       "abadan01        Andy Abad     2     21  0.095238     0.248366    77.88   \n",
       "abadijo01     John Abadie    11     49  0.224490     0.254355    86.88   \n",
       "abbated01  Ed Abbaticchio   772   3044  0.253614     0.254117   847.88   \n",
       "\n",
       "             beta1  \n",
       "playerID            \n",
       "aaronha01  8809.69  \n",
       "aaronto01   944.69  \n",
       "abadan01    235.69  \n",
       "abadijo01   254.69  \n",
       "abbated01  2488.69  "
      ]
     },
     "execution_count": 1,
     "metadata": {},
     "output_type": "execute_result"
    }
   ],
   "source": [
    "import pandas as pd\n",
    "import numpy as np\n",
    "import matplotlib.pyplot as plt\n",
    "import scipy.stats as ss\n",
    "from numpy.random import beta, binomial\n",
    "\n",
    "pd.set_option('display.max_columns', 50)\n",
    "pd.set_option('display.max_rows', 100)\n",
    "\n",
    "%matplotlib inline\n",
    "\n",
    "# read into dataframes\n",
    "Batting = pd.read_csv('data/Batting.csv', index_col=['playerID', 'yearID'])\n",
    "Pitching = pd.read_csv('data/Pitching.csv', index_col=['playerID', 'yearID'])\n",
    "Master = pd.read_csv('data/Master.csv', index_col='playerID')\n",
    "\n",
    "career = (Batting\n",
    "          .query(\"AB > 0\")\n",
    "          .join(Pitching, how='left', rsuffix='_')\n",
    "          .query(\"teamID_ != teamID_\")  # IS NULL hack for `query` method -> only Batters\n",
    "          .groupby(level=0)  # group by index -> playerID\n",
    "          .agg({'H': np.sum, 'AB': np.sum})\n",
    "          .assign(average = lambda x: x['H'] / x['AB'])\n",
    "         )\n",
    "\n",
    "career = (career\n",
    "          .join(Master)\n",
    "          .assign(name = lambda x: x['nameFirst'] + ' ' + x['nameLast'])\n",
    "          [['name', 'H', 'AB', 'average']]  # select only columns we want\n",
    "         )\n",
    "\n",
    "# priors estimated in chapter 3\n",
    "alpha0 = 75.88\n",
    "beta0 = 216.69\n",
    "\n",
    "eb_estimate_func = lambda x: (x['H'] + alpha0) / (x['AB'] + alpha0 + beta0)\n",
    "\n",
    "career_eb = career.assign(eb_estimate=eb_estimate_func)\n",
    "\n",
    "career_eb = career_eb.assign(alpha1 = lambda x: alpha0 + x['H'],\n",
    "                             beta1 = lambda x: beta0 + x['AB'] - x['H'])\n",
    "career_eb.head()"
   ]
  },
  {
   "cell_type": "markdown",
   "metadata": {
    "deletable": true,
    "editable": true
   },
   "source": [
    "### Figure 7.1"
   ]
  },
  {
   "cell_type": "markdown",
   "metadata": {
    "deletable": true,
    "editable": true
   },
   "source": [
    "Matplotlib doesn't have an easy way to get a trendline, so we'll have to do it on our own. Yes, I know this is easier with Seaborn."
   ]
  },
  {
   "cell_type": "code",
   "execution_count": 2,
   "metadata": {
    "collapsed": false,
    "deletable": true,
    "editable": true
   },
   "outputs": [],
   "source": [
    "def calculate_trend(x, y):\n",
    "    z = np.polyfit(x, y, 1)\n",
    "    p = np.poly1d(z)\n",
    "#     print(\"y = {:.6f}x + ({:.6f})\".format(z[0],z[1]))\n",
    "    return p(x)"
   ]
  },
  {
   "cell_type": "markdown",
   "metadata": {
    "deletable": true,
    "editable": true
   },
   "source": [
    "Since the x-axis is on a log scale, we'll need to fit our linear trendline to `log(AB)`."
   ]
  },
  {
   "cell_type": "code",
   "execution_count": 3,
   "metadata": {
    "collapsed": false,
    "deletable": true,
    "editable": true
   },
   "outputs": [
    {
     "data": {
      "image/png": "[encoded data removed]",
      "text/plain": [
       "<matplotlib.figure.Figure at 0x10fcea978>"
      ]
     },
     "metadata": {},
     "output_type": "display_data"
    }
   ],
   "source": [
    "x = career_eb.query(\"AB > 10\")['AB'].values\n",
    "y = career_eb.query(\"AB > 10\")['average'].values\n",
    "\n",
    "plt.figure(figsize=(8,6))\n",
    "plt.scatter(x, y, color='k')\n",
    "plt.plot(x, calculate_trend(np.log(x), y), color='steelblue', linewidth=2)\n",
    "\n",
    "plt.xscale('log')\n",
    "plt.xlabel('Number of at-bats (AB)')\n",
    "plt.ylabel('Raw batting average (H / AB)');"
   ]
  },
  {
   "cell_type": "markdown",
   "metadata": {
    "deletable": true,
    "editable": true
   },
   "source": [
    "### Figure 7.2"
   ]
  },
  {
   "cell_type": "markdown",
   "metadata": {
    "deletable": true,
    "editable": true
   },
   "source": [
    "There might be a more elegant way of doing this, but the code below is pretty straight-forward for anyone familiar with matplotlib."
   ]
  },
  {
   "cell_type": "code",
   "execution_count": 4,
   "metadata": {
    "collapsed": false,
    "deletable": true,
    "editable": true
   },
   "outputs": [
    {
     "data": {
      "image/png": "[encoded data removed]",
      "text/plain": [
       "<matplotlib.figure.Figure at 0x111bf0c50>"
      ]
     },
     "metadata": {},
     "output_type": "display_data"
    }
   ],
   "source": [
    "fig, axes = plt.subplots(ncols=2, nrows=1, sharey=True, figsize=(12, 6))\n",
    "\n",
    "axes[0].scatter(x, y, color='k')\n",
    "axes[1].scatter(x, career_eb.query(\"AB > 10\")['eb_estimate'], color='k')\n",
    "\n",
    "axes[0].plot(x, calculate_trend(np.log(x), y), color='steelblue', linewidth=2)\n",
    "axes[1].plot(x, calculate_trend(np.log(x), career_eb.query(\"AB > 10\")['eb_estimate']),\n",
    "             color='steelblue', linewidth=2)\n",
    "\n",
    "prior = alpha0 / (alpha0 + beta0)\n",
    "axes[0].axhline(prior, color='r', linestyle='--', linewidth=2)\n",
    "axes[1].axhline(prior, color='r', linestyle='--', linewidth=2)\n",
    "\n",
    "axes[0].set_title('Raw')\n",
    "axes[1].set_title('With EB Shrinkage')\n",
    "\n",
    "axes[0].set_xlabel('AB')\n",
    "axes[1].set_xlabel('AB')\n",
    "\n",
    "axes[0].set_ylabel('average')\n",
    "axes[1].set_ylabel('average')\n",
    "\n",
    "axes[0].set_xscale('log')\n",
    "axes[1].set_xscale('log')"
   ]
  },
  {
   "cell_type": "markdown",
   "metadata": {
    "deletable": true,
    "editable": true
   },
   "source": [
    "## Section 7.3 - Step 1: Fit the model across all players"
   ]
  },
  {
   "cell_type": "code",
   "execution_count": 8,
   "metadata": {
    "collapsed": false,
    "deletable": true,
    "editable": true
   },
   "outputs": [],
   "source": [
    "import pymc3 as pm\n",
    "from pymc3 import Model, Beta, Binomial, Normal, traceplot, find_MAP\n",
    "from pymc3 import glm"
   ]
  },
  {
   "cell_type": "code",
   "execution_count": 9,
   "metadata": {
    "collapsed": false
   },
   "outputs": [
    {
     "data": {
      "text/html": [
       "<div>\n",
       "<table border=\"1\" class=\"dataframe\">\n",
       "  <thead>\n",
       "    <tr style=\"text-align: right;\">\n",
       "      <th></th>\n",
       "      <th>name</th>\n",
       "      <th>H</th>\n",
       "      <th>AB</th>\n",
       "      <th>average</th>\n",
       "      <th>eb_estimate</th>\n",
       "      <th>alpha1</th>\n",
       "      <th>beta1</th>\n",
       "    </tr>\n",
       "    <tr>\n",
       "      <th>playerID</th>\n",
       "      <th></th>\n",
       "      <th></th>\n",
       "      <th></th>\n",
       "      <th></th>\n",
       "      <th></th>\n",
       "      <th></th>\n",
       "      <th></th>\n",
       "    </tr>\n",
       "  </thead>\n",
       "  <tbody>\n",
       "    <tr>\n",
       "      <th>aaronha01</th>\n",
       "      <td>Hank Aaron</td>\n",
       "      <td>3771</td>\n",
       "      <td>12364</td>\n",
       "      <td>0.304998</td>\n",
       "      <td>0.303943</td>\n",
       "      <td>3846.88</td>\n",
       "      <td>8809.69</td>\n",
       "    </tr>\n",
       "    <tr>\n",
       "      <th>aaronto01</th>\n",
       "      <td>Tommie Aaron</td>\n",
       "      <td>216</td>\n",
       "      <td>944</td>\n",
       "      <td>0.228814</td>\n",
       "      <td>0.236040</td>\n",
       "      <td>291.88</td>\n",
       "      <td>944.69</td>\n",
       "    </tr>\n",
       "    <tr>\n",
       "      <th>abadan01</th>\n",
       "      <td>Andy Abad</td>\n",
       "      <td>2</td>\n",
       "      <td>21</td>\n",
       "      <td>0.095238</td>\n",
       "      <td>0.248366</td>\n",
       "      <td>77.88</td>\n",
       "      <td>235.69</td>\n",
       "    </tr>\n",
       "    <tr>\n",
       "      <th>abadijo01</th>\n",
       "      <td>John Abadie</td>\n",
       "      <td>11</td>\n",
       "      <td>49</td>\n",
       "      <td>0.224490</td>\n",
       "      <td>0.254355</td>\n",
       "      <td>86.88</td>\n",
       "      <td>254.69</td>\n",
       "    </tr>\n",
       "    <tr>\n",
       "      <th>abbated01</th>\n",
       "      <td>Ed Abbaticchio</td>\n",
       "      <td>772</td>\n",
       "      <td>3044</td>\n",
       "      <td>0.253614</td>\n",
       "      <td>0.254117</td>\n",
       "      <td>847.88</td>\n",
       "      <td>2488.69</td>\n",
       "    </tr>\n",
       "  </tbody>\n",
       "</table>\n",
       "</div>"
      ],
      "text/plain": [
       "                     name     H     AB   average  eb_estimate   alpha1  \\\n",
       "playerID                                                                 \n",
       "aaronha01      Hank Aaron  3771  12364  0.304998     0.303943  3846.88   \n",
       "aaronto01    Tommie Aaron   216    944  0.228814     0.236040   291.88   \n",
       "abadan01        Andy Abad     2     21  0.095238     0.248366    77.88   \n",
       "abadijo01     John Abadie    11     49  0.224490     0.254355    86.88   \n",
       "abbated01  Ed Abbaticchio   772   3044  0.253614     0.254117   847.88   \n",
       "\n",
       "             beta1  \n",
       "playerID            \n",
       "aaronha01  8809.69  \n",
       "aaronto01   944.69  \n",
       "abadan01    235.69  \n",
       "abadijo01   254.69  \n",
       "abbated01  2488.69  "
      ]
     },
     "execution_count": 9,
     "metadata": {},
     "output_type": "execute_result"
    }
   ],
   "source": [
    "career_eb.head()"
   ]
  },
  {
   "cell_type": "markdown",
   "metadata": {},
   "source": [
    "### MCMC"
   ]
  },
  {
   "cell_type": "code",
   "execution_count": null,
   "metadata": {
    "collapsed": true
   },
   "outputs": [],
   "source": [
    "with Model() as model:\n",
    "    alpha = ''\n",
    "    beta = ''\n",
    "    \n",
    "    true_average = Beta('true_average', alpha=alpha, beta=beta)\n",
    "    hits = Binomial('hits', n='AB', p=true_average)\n",
    "    \n",
    "    map_estimate = find_MAP(model)\n",
    "    \n",
    "    print(map_estimate)"
   ]
  },
  {
   "cell_type": "markdown",
   "metadata": {},
   "source": [
    "### GLM"
   ]
  },
  {
   "cell_type": "code",
   "execution_count": null,
   "metadata": {
    "collapsed": true
   },
   "outputs": [],
   "source": [
    "with Model() as glm_model:"
   ]
  }
 ],
 "metadata": {
  "kernelspec": {
   "display_name": "Python 3",
   "language": "python",
   "name": "python3"
  },
  "language_info": {
   "codemirror_mode": {
    "name": "ipython",
    "version": 3
   },
   "file_extension": ".py",
   "mimetype": "text/x-python",
   "name": "python",
   "nbconvert_exporter": "python",
   "pygments_lexer": "ipython3",
   "version": "3.6.0"
  }
 },
 "nbformat": 4,
 "nbformat_minor": 2
}
