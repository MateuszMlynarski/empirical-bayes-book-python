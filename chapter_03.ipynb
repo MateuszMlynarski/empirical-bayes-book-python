{
 "cells": [
  {
   "cell_type": "markdown",
   "metadata": {
    "deletable": true,
    "editable": true
   },
   "source": [
    "# Chapter 03"
   ]
  },
  {
   "cell_type": "markdown",
   "metadata": {
    "deletable": true,
    "editable": true
   },
   "source": [
    "### Setup Environment"
   ]
  },
  {
   "cell_type": "code",
   "execution_count": 1,
   "metadata": {
    "collapsed": true,
    "deletable": true,
    "editable": true
   },
   "outputs": [],
   "source": [
    "import pandas as pd\n",
    "import numpy as np\n",
    "import matplotlib.pyplot as plt\n",
    "import scipy.stats as ss\n",
    "from numpy.random import beta, binomial\n",
    "\n",
    "pd.set_option('display.max_columns', 50)\n",
    "pd.set_option('display.max_rows', 100)\n",
    "\n",
    "%matplotlib inline"
   ]
  },
  {
   "cell_type": "markdown",
   "metadata": {
    "deletable": true,
    "editable": true
   },
   "source": [
    "## Section 3.1\n",
    "\n",
    "Setup [Lahman baseball dataset](http://www.seanlahman.com/baseball-archive/statistics/). We downloaded the CSV files locally and will load those -- Python doesn't have an equivalent to R's `Lahman` package."
   ]
  },
  {
   "cell_type": "code",
   "execution_count": 2,
   "metadata": {
    "collapsed": false
   },
   "outputs": [],
   "source": [
    "# read into dataframes\n",
    "Batting = pd.read_csv('data/Batting.csv', index_col=['playerID', 'yearID'])\n",
    "Pitching = pd.read_csv('data/Pitching.csv', index_col=['playerID', 'yearID'])\n",
    "Master = pd.read_csv('data/Master.csv', index_col='playerID')"
   ]
  },
  {
   "cell_type": "code",
   "execution_count": 3,
   "metadata": {
    "collapsed": false,
    "deletable": true,
    "editable": true
   },
   "outputs": [
    {
     "data": {
      "text/html": [
       "<div>\n",
       "<table border=\"1\" class=\"dataframe\">\n",
       "  <thead>\n",
       "    <tr style=\"text-align: right;\">\n",
       "      <th></th>\n",
       "      <th>H</th>\n",
       "      <th>AB</th>\n",
       "      <th>average</th>\n",
       "    </tr>\n",
       "    <tr>\n",
       "      <th>playerID</th>\n",
       "      <th></th>\n",
       "      <th></th>\n",
       "      <th></th>\n",
       "    </tr>\n",
       "  </thead>\n",
       "  <tbody>\n",
       "    <tr>\n",
       "      <th>aaronha01</th>\n",
       "      <td>3771</td>\n",
       "      <td>12364</td>\n",
       "      <td>0.304998</td>\n",
       "    </tr>\n",
       "    <tr>\n",
       "      <th>aaronto01</th>\n",
       "      <td>216</td>\n",
       "      <td>944</td>\n",
       "      <td>0.228814</td>\n",
       "    </tr>\n",
       "    <tr>\n",
       "      <th>abadan01</th>\n",
       "      <td>2</td>\n",
       "      <td>21</td>\n",
       "      <td>0.095238</td>\n",
       "    </tr>\n",
       "    <tr>\n",
       "      <th>abadijo01</th>\n",
       "      <td>11</td>\n",
       "      <td>49</td>\n",
       "      <td>0.224490</td>\n",
       "    </tr>\n",
       "    <tr>\n",
       "      <th>abbated01</th>\n",
       "      <td>772</td>\n",
       "      <td>3044</td>\n",
       "      <td>0.253614</td>\n",
       "    </tr>\n",
       "  </tbody>\n",
       "</table>\n",
       "</div>"
      ],
      "text/plain": [
       "              H     AB   average\n",
       "playerID                        \n",
       "aaronha01  3771  12364  0.304998\n",
       "aaronto01   216    944  0.228814\n",
       "abadan01      2     21  0.095238\n",
       "abadijo01    11     49  0.224490\n",
       "abbated01   772   3044  0.253614"
      ]
     },
     "execution_count": 3,
     "metadata": {},
     "output_type": "execute_result"
    }
   ],
   "source": [
    "career = (Batting\n",
    "          .query(\"AB > 0\")\n",
    "          .join(Pitching, how='left', rsuffix='_')\n",
    "          .query(\"teamID_ != teamID_\")  # IS NULL hack for `query` method -> only Batters\n",
    "          .groupby(level=0)  # group by index -> playerID\n",
    "          .agg({'H': np.sum, 'AB': np.sum})\n",
    "          .assign(average = lambda x: x['H'] / x['AB'])\n",
    "         )\n",
    "\n",
    "career.head()"
   ]
  },
  {
   "cell_type": "code",
   "execution_count": 4,
   "metadata": {
    "collapsed": false
   },
   "outputs": [
    {
     "data": {
      "text/html": [
       "<div>\n",
       "<table border=\"1\" class=\"dataframe\">\n",
       "  <thead>\n",
       "    <tr style=\"text-align: right;\">\n",
       "      <th></th>\n",
       "      <th>name</th>\n",
       "      <th>H</th>\n",
       "      <th>AB</th>\n",
       "      <th>average</th>\n",
       "    </tr>\n",
       "    <tr>\n",
       "      <th>playerID</th>\n",
       "      <th></th>\n",
       "      <th></th>\n",
       "      <th></th>\n",
       "      <th></th>\n",
       "    </tr>\n",
       "  </thead>\n",
       "  <tbody>\n",
       "    <tr>\n",
       "      <th>aaronha01</th>\n",
       "      <td>Hank Aaron</td>\n",
       "      <td>3771</td>\n",
       "      <td>12364</td>\n",
       "      <td>0.304998</td>\n",
       "    </tr>\n",
       "    <tr>\n",
       "      <th>aaronto01</th>\n",
       "      <td>Tommie Aaron</td>\n",
       "      <td>216</td>\n",
       "      <td>944</td>\n",
       "      <td>0.228814</td>\n",
       "    </tr>\n",
       "    <tr>\n",
       "      <th>abadan01</th>\n",
       "      <td>Andy Abad</td>\n",
       "      <td>2</td>\n",
       "      <td>21</td>\n",
       "      <td>0.095238</td>\n",
       "    </tr>\n",
       "    <tr>\n",
       "      <th>abadijo01</th>\n",
       "      <td>John Abadie</td>\n",
       "      <td>11</td>\n",
       "      <td>49</td>\n",
       "      <td>0.224490</td>\n",
       "    </tr>\n",
       "    <tr>\n",
       "      <th>abbated01</th>\n",
       "      <td>Ed Abbaticchio</td>\n",
       "      <td>772</td>\n",
       "      <td>3044</td>\n",
       "      <td>0.253614</td>\n",
       "    </tr>\n",
       "  </tbody>\n",
       "</table>\n",
       "</div>"
      ],
      "text/plain": [
       "                     name     H     AB   average\n",
       "playerID                                        \n",
       "aaronha01      Hank Aaron  3771  12364  0.304998\n",
       "aaronto01    Tommie Aaron   216    944  0.228814\n",
       "abadan01        Andy Abad     2     21  0.095238\n",
       "abadijo01     John Abadie    11     49  0.224490\n",
       "abbated01  Ed Abbaticchio   772   3044  0.253614"
      ]
     },
     "execution_count": 4,
     "metadata": {},
     "output_type": "execute_result"
    }
   ],
   "source": [
    "# pull in name\n",
    "career = (career\n",
    "          .join(Master)\n",
    "          .assign(name = lambda x: x['nameFirst'] + ' ' + x['nameLast'])\n",
    "          [['name', 'H', 'AB', 'average']]  # select only columns we want\n",
    "         )\n",
    "\n",
    "career.head()"
   ]
  },
  {
   "cell_type": "markdown",
   "metadata": {},
   "source": [
    "## Section 3.2\n",
    "### Step 1: Estimate a prior from all your data"
   ]
  },
  {
   "cell_type": "markdown",
   "metadata": {},
   "source": [
    "### Figure 3.1"
   ]
  },
  {
   "cell_type": "code",
   "execution_count": 5,
   "metadata": {
    "collapsed": false
   },
   "outputs": [
    {
     "data": {
      "image/png": "[encoded data removed]",
      "text/plain": [
       "<matplotlib.figure.Figure at 0x10aa2f860>"
      ]
     },
     "metadata": {},
     "output_type": "display_data"
    }
   ],
   "source": [
    "# not sure if in the book this is `career` or `career_filtered` -- code not given\n",
    "career['average'].hist(bins=50)\n",
    "plt.xlim(0.15, 0.375)\n",
    "plt.xlabel('average')\n",
    "plt.ylabel('count');"
   ]
  },
  {
   "cell_type": "code",
   "execution_count": null,
   "metadata": {
    "collapsed": true
   },
   "outputs": [],
   "source": []
  },
  {
   "cell_type": "code",
   "execution_count": 6,
   "metadata": {
    "collapsed": false
   },
   "outputs": [
    {
     "name": "stdout",
     "output_type": "stream",
     "text": [
      "Alpha = 75.88, Beta = 216.69\n"
     ]
    }
   ],
   "source": [
    "career_filtered = career.query(\"AB > 500\")\n",
    "\n",
    "# maximum likelihood estimation\n",
    "\n",
    "alpha0, beta0, loc0, scale0 = ss.beta.fit(career_filtered['average'], floc=0, fscale=1)\n",
    "print('Alpha = {:.2f}, Beta = {:.2f}'.format(alpha0, beta0))"
   ]
  },
  {
   "cell_type": "markdown",
   "metadata": {},
   "source": [
    "### Figure 3.2"
   ]
  },
  {
   "cell_type": "code",
   "execution_count": 7,
   "metadata": {
    "collapsed": false
   },
   "outputs": [
    {
     "data": {
      "image/png": "[encoded data removed]",
      "text/plain": [
       "<matplotlib.figure.Figure at 0x1062c2a58>"
      ]
     },
     "metadata": {},
     "output_type": "display_data"
    }
   ],
   "source": [
    "random_fitted = beta(alpha0, beta0, size=len(career_filtered))\n",
    "\n",
    "# not sure if in the book this is `career` or `career_filtered` -- code not given\n",
    "# assume it's `career_filtered`, since that's what we're fitting MLE to\n",
    "career_filtered['average'].hist(bins=50, alpha=.5)\n",
    "plt.hist(random_fitted, histtype='step', bins=50, alpha=2)\n",
    "plt.xlim(0.15, 0.375)\n",
    "plt.xlabel('average')\n",
    "plt.ylabel('count');"
   ]
  },
  {
   "cell_type": "markdown",
   "metadata": {},
   "source": [
    "Seems like a pretty good fit to me."
   ]
  },
  {
   "cell_type": "markdown",
   "metadata": {},
   "source": [
    "## Section 3.3\n",
    "### Step 2: Use that distribution as a prior for each individual estimate"
   ]
  },
  {
   "cell_type": "code",
   "execution_count": 8,
   "metadata": {
    "collapsed": false
   },
   "outputs": [
    {
     "data": {
      "text/html": [
       "<div>\n",
       "<table border=\"1\" class=\"dataframe\">\n",
       "  <thead>\n",
       "    <tr style=\"text-align: right;\">\n",
       "      <th></th>\n",
       "      <th>name</th>\n",
       "      <th>H</th>\n",
       "      <th>AB</th>\n",
       "      <th>average</th>\n",
       "      <th>eb_estimate</th>\n",
       "    </tr>\n",
       "    <tr>\n",
       "      <th>playerID</th>\n",
       "      <th></th>\n",
       "      <th></th>\n",
       "      <th></th>\n",
       "      <th></th>\n",
       "      <th></th>\n",
       "    </tr>\n",
       "  </thead>\n",
       "  <tbody>\n",
       "    <tr>\n",
       "      <th>aaronha01</th>\n",
       "      <td>Hank Aaron</td>\n",
       "      <td>3771</td>\n",
       "      <td>12364</td>\n",
       "      <td>0.304998</td>\n",
       "      <td>0.303943</td>\n",
       "    </tr>\n",
       "    <tr>\n",
       "      <th>aaronto01</th>\n",
       "      <td>Tommie Aaron</td>\n",
       "      <td>216</td>\n",
       "      <td>944</td>\n",
       "      <td>0.228814</td>\n",
       "      <td>0.236040</td>\n",
       "    </tr>\n",
       "    <tr>\n",
       "      <th>abadan01</th>\n",
       "      <td>Andy Abad</td>\n",
       "      <td>2</td>\n",
       "      <td>21</td>\n",
       "      <td>0.095238</td>\n",
       "      <td>0.248366</td>\n",
       "    </tr>\n",
       "    <tr>\n",
       "      <th>abadijo01</th>\n",
       "      <td>John Abadie</td>\n",
       "      <td>11</td>\n",
       "      <td>49</td>\n",
       "      <td>0.224490</td>\n",
       "      <td>0.254356</td>\n",
       "    </tr>\n",
       "    <tr>\n",
       "      <th>abbated01</th>\n",
       "      <td>Ed Abbaticchio</td>\n",
       "      <td>772</td>\n",
       "      <td>3044</td>\n",
       "      <td>0.253614</td>\n",
       "      <td>0.254117</td>\n",
       "    </tr>\n",
       "  </tbody>\n",
       "</table>\n",
       "</div>"
      ],
      "text/plain": [
       "                     name     H     AB   average  eb_estimate\n",
       "playerID                                                     \n",
       "aaronha01      Hank Aaron  3771  12364  0.304998     0.303943\n",
       "aaronto01    Tommie Aaron   216    944  0.228814     0.236040\n",
       "abadan01        Andy Abad     2     21  0.095238     0.248366\n",
       "abadijo01     John Abadie    11     49  0.224490     0.254356\n",
       "abbated01  Ed Abbaticchio   772   3044  0.253614     0.254117"
      ]
     },
     "execution_count": 8,
     "metadata": {},
     "output_type": "execute_result"
    }
   ],
   "source": [
    "eb_estimate_func = lambda x: (x['H'] + alpha0) / (x['AB'] + alpha0 + beta0)\n",
    "\n",
    "career_eb = career.assign(eb_estimate=eb_estimate_func)\n",
    "career_eb.head()"
   ]
  },
  {
   "cell_type": "markdown",
   "metadata": {},
   "source": [
    "## Section 3.4\n",
    "### Results\n",
    "\n",
    "**NOTE:** Our numbers will be slightly different."
   ]
  },
  {
   "cell_type": "code",
   "execution_count": 9,
   "metadata": {
    "collapsed": false
   },
   "outputs": [
    {
     "data": {
      "text/html": [
       "<div>\n",
       "<table border=\"1\" class=\"dataframe\">\n",
       "  <thead>\n",
       "    <tr style=\"text-align: right;\">\n",
       "      <th></th>\n",
       "      <th>name</th>\n",
       "      <th>H</th>\n",
       "      <th>AB</th>\n",
       "      <th>average</th>\n",
       "      <th>eb_estimate</th>\n",
       "    </tr>\n",
       "    <tr>\n",
       "      <th>playerID</th>\n",
       "      <th></th>\n",
       "      <th></th>\n",
       "      <th></th>\n",
       "      <th></th>\n",
       "      <th></th>\n",
       "    </tr>\n",
       "  </thead>\n",
       "  <tbody>\n",
       "    <tr>\n",
       "      <th>cobbty01</th>\n",
       "      <td>Ty Cobb</td>\n",
       "      <td>3871</td>\n",
       "      <td>10598</td>\n",
       "      <td>0.365258</td>\n",
       "      <td>0.362413</td>\n",
       "    </tr>\n",
       "    <tr>\n",
       "      <th>hornsro01</th>\n",
       "      <td>Rogers Hornsby</td>\n",
       "      <td>2930</td>\n",
       "      <td>8173</td>\n",
       "      <td>0.358497</td>\n",
       "      <td>0.355071</td>\n",
       "    </tr>\n",
       "    <tr>\n",
       "      <th>jacksjo01</th>\n",
       "      <td>Shoeless Joe Jackson</td>\n",
       "      <td>1772</td>\n",
       "      <td>4981</td>\n",
       "      <td>0.355752</td>\n",
       "      <td>0.350404</td>\n",
       "    </tr>\n",
       "    <tr>\n",
       "      <th>odoulle01</th>\n",
       "      <td>Lefty O'Doul</td>\n",
       "      <td>1126</td>\n",
       "      <td>3192</td>\n",
       "      <td>0.352757</td>\n",
       "      <td>0.344915</td>\n",
       "    </tr>\n",
       "    <tr>\n",
       "      <th>delahed01</th>\n",
       "      <td>Ed Delahanty</td>\n",
       "      <td>2596</td>\n",
       "      <td>7505</td>\n",
       "      <td>0.345903</td>\n",
       "      <td>0.342656</td>\n",
       "    </tr>\n",
       "    <tr>\n",
       "      <th>speaktr01</th>\n",
       "      <td>Tris Speaker</td>\n",
       "      <td>3321</td>\n",
       "      <td>9624</td>\n",
       "      <td>0.345075</td>\n",
       "      <td>0.342546</td>\n",
       "    </tr>\n",
       "    <tr>\n",
       "      <th>willite01</th>\n",
       "      <td>Ted Williams</td>\n",
       "      <td>2461</td>\n",
       "      <td>7145</td>\n",
       "      <td>0.344437</td>\n",
       "      <td>0.341090</td>\n",
       "    </tr>\n",
       "    <tr>\n",
       "      <th>hamilbi01</th>\n",
       "      <td>Billy Hamilton</td>\n",
       "      <td>2158</td>\n",
       "      <td>6268</td>\n",
       "      <td>0.344288</td>\n",
       "      <td>0.340501</td>\n",
       "    </tr>\n",
       "    <tr>\n",
       "      <th>sislege01</th>\n",
       "      <td>George Sisler</td>\n",
       "      <td>1565</td>\n",
       "      <td>4528</td>\n",
       "      <td>0.345627</td>\n",
       "      <td>0.340391</td>\n",
       "    </tr>\n",
       "    <tr>\n",
       "      <th>ruthba01</th>\n",
       "      <td>Babe Ruth</td>\n",
       "      <td>1831</td>\n",
       "      <td>5314</td>\n",
       "      <td>0.344562</td>\n",
       "      <td>0.340115</td>\n",
       "    </tr>\n",
       "  </tbody>\n",
       "</table>\n",
       "</div>"
      ],
      "text/plain": [
       "                           name     H     AB   average  eb_estimate\n",
       "playerID                                                           \n",
       "cobbty01                Ty Cobb  3871  10598  0.365258     0.362413\n",
       "hornsro01        Rogers Hornsby  2930   8173  0.358497     0.355071\n",
       "jacksjo01  Shoeless Joe Jackson  1772   4981  0.355752     0.350404\n",
       "odoulle01          Lefty O'Doul  1126   3192  0.352757     0.344915\n",
       "delahed01          Ed Delahanty  2596   7505  0.345903     0.342656\n",
       "speaktr01          Tris Speaker  3321   9624  0.345075     0.342546\n",
       "willite01          Ted Williams  2461   7145  0.344437     0.341090\n",
       "hamilbi01        Billy Hamilton  2158   6268  0.344288     0.340501\n",
       "sislege01         George Sisler  1565   4528  0.345627     0.340391\n",
       "ruthba01              Babe Ruth  1831   5314  0.344562     0.340115"
      ]
     },
     "execution_count": 9,
     "metadata": {},
     "output_type": "execute_result"
    }
   ],
   "source": [
    "career_eb.sort_values('eb_estimate', ascending=False).head(10)"
   ]
  },
  {
   "cell_type": "code",
   "execution_count": 10,
   "metadata": {
    "collapsed": false
   },
   "outputs": [
    {
     "data": {
      "text/html": [
       "<div>\n",
       "<table border=\"1\" class=\"dataframe\">\n",
       "  <thead>\n",
       "    <tr style=\"text-align: right;\">\n",
       "      <th></th>\n",
       "      <th>name</th>\n",
       "      <th>H</th>\n",
       "      <th>AB</th>\n",
       "      <th>average</th>\n",
       "      <th>eb_estimate</th>\n",
       "    </tr>\n",
       "    <tr>\n",
       "      <th>playerID</th>\n",
       "      <th></th>\n",
       "      <th></th>\n",
       "      <th></th>\n",
       "      <th></th>\n",
       "      <th></th>\n",
       "    </tr>\n",
       "  </thead>\n",
       "  <tbody>\n",
       "    <tr>\n",
       "      <th>bergebi01</th>\n",
       "      <td>Bill Bergen</td>\n",
       "      <td>516</td>\n",
       "      <td>3028</td>\n",
       "      <td>0.170410</td>\n",
       "      <td>0.178247</td>\n",
       "    </tr>\n",
       "    <tr>\n",
       "      <th>oylerra01</th>\n",
       "      <td>Ray Oyler</td>\n",
       "      <td>221</td>\n",
       "      <td>1265</td>\n",
       "      <td>0.174704</td>\n",
       "      <td>0.190605</td>\n",
       "    </tr>\n",
       "    <tr>\n",
       "      <th>humphjo01</th>\n",
       "      <td>John Humphries</td>\n",
       "      <td>52</td>\n",
       "      <td>364</td>\n",
       "      <td>0.142857</td>\n",
       "      <td>0.194770</td>\n",
       "    </tr>\n",
       "    <tr>\n",
       "      <th>vukovjo01</th>\n",
       "      <td>John Vukovich</td>\n",
       "      <td>90</td>\n",
       "      <td>559</td>\n",
       "      <td>0.161002</td>\n",
       "      <td>0.194793</td>\n",
       "    </tr>\n",
       "    <tr>\n",
       "      <th>bakerge01</th>\n",
       "      <td>George Baker</td>\n",
       "      <td>74</td>\n",
       "      <td>474</td>\n",
       "      <td>0.156118</td>\n",
       "      <td>0.195520</td>\n",
       "    </tr>\n",
       "    <tr>\n",
       "      <th>gladmbu01</th>\n",
       "      <td>Buck Gladmon</td>\n",
       "      <td>56</td>\n",
       "      <td>380</td>\n",
       "      <td>0.147368</td>\n",
       "      <td>0.196084</td>\n",
       "    </tr>\n",
       "    <tr>\n",
       "      <th>eastehe01</th>\n",
       "      <td>Henry Easterday</td>\n",
       "      <td>203</td>\n",
       "      <td>1129</td>\n",
       "      <td>0.179805</td>\n",
       "      <td>0.196178</td>\n",
       "    </tr>\n",
       "    <tr>\n",
       "      <th>armbrch01</th>\n",
       "      <td>Charlie Armbruster</td>\n",
       "      <td>53</td>\n",
       "      <td>355</td>\n",
       "      <td>0.149296</td>\n",
       "      <td>0.199021</td>\n",
       "    </tr>\n",
       "    <tr>\n",
       "      <th>bastich01</th>\n",
       "      <td>Charlie Bastian</td>\n",
       "      <td>321</td>\n",
       "      <td>1700</td>\n",
       "      <td>0.188824</td>\n",
       "      <td>0.199180</td>\n",
       "    </tr>\n",
       "    <tr>\n",
       "      <th>traffbi01</th>\n",
       "      <td>Bill Traffley</td>\n",
       "      <td>116</td>\n",
       "      <td>663</td>\n",
       "      <td>0.174962</td>\n",
       "      <td>0.200802</td>\n",
       "    </tr>\n",
       "  </tbody>\n",
       "</table>\n",
       "</div>"
      ],
      "text/plain": [
       "                         name    H    AB   average  eb_estimate\n",
       "playerID                                                       \n",
       "bergebi01         Bill Bergen  516  3028  0.170410     0.178247\n",
       "oylerra01           Ray Oyler  221  1265  0.174704     0.190605\n",
       "humphjo01      John Humphries   52   364  0.142857     0.194770\n",
       "vukovjo01       John Vukovich   90   559  0.161002     0.194793\n",
       "bakerge01        George Baker   74   474  0.156118     0.195520\n",
       "gladmbu01        Buck Gladmon   56   380  0.147368     0.196084\n",
       "eastehe01     Henry Easterday  203  1129  0.179805     0.196178\n",
       "armbrch01  Charlie Armbruster   53   355  0.149296     0.199021\n",
       "bastich01     Charlie Bastian  321  1700  0.188824     0.199180\n",
       "traffbi01       Bill Traffley  116   663  0.174962     0.200802"
      ]
     },
     "execution_count": 10,
     "metadata": {},
     "output_type": "execute_result"
    }
   ],
   "source": [
    "career_eb.sort_values('eb_estimate', ascending=True).head(10)"
   ]
  },
  {
   "cell_type": "markdown",
   "metadata": {},
   "source": [
    "### Figure 3.3"
   ]
  },
  {
   "cell_type": "code",
   "execution_count": 11,
   "metadata": {
    "collapsed": false
   },
   "outputs": [
    {
     "data": {
      "text/plain": [
       "(0.15, 0.4)"
      ]
     },
     "execution_count": 11,
     "metadata": {},
     "output_type": "execute_result"
    },
    {
     "data": {
      "image/png": "[encoded data removed]",
      "text/plain": [
       "<matplotlib.figure.Figure at 0x10aa94908>"
      ]
     },
     "metadata": {},
     "output_type": "display_data"
    }
   ],
   "source": [
    "# what we would guess someone's batting average is with no evidence\n",
    "prior = alpha0 / (alpha0 + beta0)\n",
    "\n",
    "# use of `sharex` is a hack due to a known bug in pandas:\n",
    "# https://github.com/pandas-dev/pandas/issues/10611\n",
    "ax = career_eb.plot.scatter(x='average', y='eb_estimate', c='AB',\n",
    "                            colormap='Blues_r', figsize=(6,6), grid=True,\n",
    "                            sharex=False)\n",
    "\n",
    "plt.axhline(prior, color='r', linestyle=':')\n",
    "\n",
    "# draw a straight line where x = y\n",
    "lims = [\n",
    "    np.min([ax.get_xlim(), ax.get_ylim()]),\n",
    "    np.max([ax.get_xlim(), ax.get_ylim()])\n",
    "]\n",
    "\n",
    "plt.plot(lims, lims, 'r-', alpha=.7)\n",
    "\n",
    "# redo axes limits\n",
    "plt.xlim(-0.1, 1.1)\n",
    "plt.ylim(0.150, 0.400)"
   ]
  },
  {
   "cell_type": "markdown",
   "metadata": {},
   "source": [
    "I miss ggplot2."
   ]
  }
 ],
 "metadata": {
  "kernelspec": {
   "display_name": "Python 3",
   "language": "python",
   "name": "python3"
  },
  "language_info": {
   "codemirror_mode": {
    "name": "ipython",
    "version": 3
   },
   "file_extension": ".py",
   "mimetype": "text/x-python",
   "name": "python",
   "nbconvert_exporter": "python",
   "pygments_lexer": "ipython3",
   "version": "3.6.0"
  }
 },
 "nbformat": 4,
 "nbformat_minor": 2
}
