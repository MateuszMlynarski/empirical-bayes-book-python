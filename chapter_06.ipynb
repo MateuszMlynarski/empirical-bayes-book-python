{
 "cells": [
  {
   "cell_type": "markdown",
   "metadata": {
    "deletable": true,
    "editable": true
   },
   "source": [
    "# Chapter 06 - Bayesian A/B Testing\n",
    "### Setup Environment"
   ]
  },
  {
   "cell_type": "code",
   "execution_count": 1,
   "metadata": {
    "collapsed": false,
    "deletable": true,
    "editable": true
   },
   "outputs": [
    {
     "data": {
      "text/html": [
       "<div>\n",
       "<table border=\"1\" class=\"dataframe\">\n",
       "  <thead>\n",
       "    <tr style=\"text-align: right;\">\n",
       "      <th></th>\n",
       "      <th>name</th>\n",
       "      <th>H</th>\n",
       "      <th>AB</th>\n",
       "      <th>average</th>\n",
       "      <th>eb_estimate</th>\n",
       "      <th>alpha1</th>\n",
       "      <th>beta1</th>\n",
       "    </tr>\n",
       "    <tr>\n",
       "      <th>playerID</th>\n",
       "      <th></th>\n",
       "      <th></th>\n",
       "      <th></th>\n",
       "      <th></th>\n",
       "      <th></th>\n",
       "      <th></th>\n",
       "      <th></th>\n",
       "    </tr>\n",
       "  </thead>\n",
       "  <tbody>\n",
       "    <tr>\n",
       "      <th>aaronha01</th>\n",
       "      <td>Hank Aaron</td>\n",
       "      <td>3771</td>\n",
       "      <td>12364</td>\n",
       "      <td>0.304998</td>\n",
       "      <td>0.303943</td>\n",
       "      <td>3846.88</td>\n",
       "      <td>8809.69</td>\n",
       "    </tr>\n",
       "    <tr>\n",
       "      <th>aaronto01</th>\n",
       "      <td>Tommie Aaron</td>\n",
       "      <td>216</td>\n",
       "      <td>944</td>\n",
       "      <td>0.228814</td>\n",
       "      <td>0.236040</td>\n",
       "      <td>291.88</td>\n",
       "      <td>944.69</td>\n",
       "    </tr>\n",
       "    <tr>\n",
       "      <th>abadan01</th>\n",
       "      <td>Andy Abad</td>\n",
       "      <td>2</td>\n",
       "      <td>21</td>\n",
       "      <td>0.095238</td>\n",
       "      <td>0.248366</td>\n",
       "      <td>77.88</td>\n",
       "      <td>235.69</td>\n",
       "    </tr>\n",
       "    <tr>\n",
       "      <th>abadijo01</th>\n",
       "      <td>John Abadie</td>\n",
       "      <td>11</td>\n",
       "      <td>49</td>\n",
       "      <td>0.224490</td>\n",
       "      <td>0.254355</td>\n",
       "      <td>86.88</td>\n",
       "      <td>254.69</td>\n",
       "    </tr>\n",
       "    <tr>\n",
       "      <th>abbated01</th>\n",
       "      <td>Ed Abbaticchio</td>\n",
       "      <td>772</td>\n",
       "      <td>3044</td>\n",
       "      <td>0.253614</td>\n",
       "      <td>0.254117</td>\n",
       "      <td>847.88</td>\n",
       "      <td>2488.69</td>\n",
       "    </tr>\n",
       "  </tbody>\n",
       "</table>\n",
       "</div>"
      ],
      "text/plain": [
       "                     name     H     AB   average  eb_estimate   alpha1  \\\n",
       "playerID                                                                 \n",
       "aaronha01      Hank Aaron  3771  12364  0.304998     0.303943  3846.88   \n",
       "aaronto01    Tommie Aaron   216    944  0.228814     0.236040   291.88   \n",
       "abadan01        Andy Abad     2     21  0.095238     0.248366    77.88   \n",
       "abadijo01     John Abadie    11     49  0.224490     0.254355    86.88   \n",
       "abbated01  Ed Abbaticchio   772   3044  0.253614     0.254117   847.88   \n",
       "\n",
       "             beta1  \n",
       "playerID            \n",
       "aaronha01  8809.69  \n",
       "aaronto01   944.69  \n",
       "abadan01    235.69  \n",
       "abadijo01   254.69  \n",
       "abbated01  2488.69  "
      ]
     },
     "execution_count": 1,
     "metadata": {},
     "output_type": "execute_result"
    }
   ],
   "source": [
    "import pandas as pd\n",
    "import numpy as np\n",
    "import matplotlib.pyplot as plt\n",
    "import scipy.stats as ss\n",
    "from numpy.random import beta, binomial\n",
    "\n",
    "pd.set_option('display.max_columns', 50)\n",
    "pd.set_option('display.max_rows', 100)\n",
    "\n",
    "%matplotlib inline\n",
    "\n",
    "# read into dataframes\n",
    "Batting = pd.read_csv('data/Batting.csv', index_col=['playerID', 'yearID'])\n",
    "Pitching = pd.read_csv('data/Pitching.csv', index_col=['playerID', 'yearID'])\n",
    "Master = pd.read_csv('data/Master.csv', index_col='playerID')\n",
    "\n",
    "career = (Batting\n",
    "          .query(\"AB > 0\")\n",
    "          .join(Pitching, how='left', rsuffix='_')\n",
    "          .query(\"teamID_ != teamID_\")  # IS NULL hack for `query` method -> only Batters\n",
    "          .groupby(level=0)  # group by index -> playerID\n",
    "          .agg({'H': np.sum, 'AB': np.sum})\n",
    "          .assign(average = lambda x: x['H'] / x['AB'])\n",
    "         )\n",
    "\n",
    "career = (career\n",
    "          .join(Master)\n",
    "          .assign(name = lambda x: x['nameFirst'] + ' ' + x['nameLast'])\n",
    "          [['name', 'H', 'AB', 'average']]  # select only columns we want\n",
    "         )\n",
    "\n",
    "# priors estimated in chapter 3\n",
    "alpha0 = 75.88\n",
    "beta0 = 216.69\n",
    "\n",
    "eb_estimate_func = lambda x: (x['H'] + alpha0) / (x['AB'] + alpha0 + beta0)\n",
    "\n",
    "career_eb = career.assign(eb_estimate=eb_estimate_func)\n",
    "\n",
    "career_eb = career_eb.assign(alpha1 = lambda x: alpha0 + x['H'],\n",
    "                             beta1 = lambda x: beta0 + x['AB'] - x['H'])\n",
    "career_eb.head()"
   ]
  },
  {
   "cell_type": "markdown",
   "metadata": {
    "deletable": true,
    "editable": true
   },
   "source": [
    "## Section 6.2 - Comparing Posterior Distributions\n",
    "#### What's the probability that Piazza is a better hitter (for batting average) than Aaron?"
   ]
  },
  {
   "cell_type": "code",
   "execution_count": 2,
   "metadata": {
    "collapsed": false,
    "deletable": true,
    "editable": true
   },
   "outputs": [
    {
     "data": {
      "text/html": [
       "<div>\n",
       "<table border=\"1\" class=\"dataframe\">\n",
       "  <thead>\n",
       "    <tr style=\"text-align: right;\">\n",
       "      <th></th>\n",
       "      <th>name</th>\n",
       "      <th>H</th>\n",
       "      <th>AB</th>\n",
       "      <th>average</th>\n",
       "      <th>eb_estimate</th>\n",
       "      <th>alpha1</th>\n",
       "      <th>beta1</th>\n",
       "    </tr>\n",
       "    <tr>\n",
       "      <th>playerID</th>\n",
       "      <th></th>\n",
       "      <th></th>\n",
       "      <th></th>\n",
       "      <th></th>\n",
       "      <th></th>\n",
       "      <th></th>\n",
       "      <th></th>\n",
       "    </tr>\n",
       "  </thead>\n",
       "  <tbody>\n",
       "    <tr>\n",
       "      <th>aaronha01</th>\n",
       "      <td>Hank Aaron</td>\n",
       "      <td>3771</td>\n",
       "      <td>12364</td>\n",
       "      <td>0.304998</td>\n",
       "      <td>0.303943</td>\n",
       "      <td>3846.88</td>\n",
       "      <td>8809.69</td>\n",
       "    </tr>\n",
       "    <tr>\n",
       "      <th>piazzmi01</th>\n",
       "      <td>Mike Piazza</td>\n",
       "      <td>2127</td>\n",
       "      <td>6911</td>\n",
       "      <td>0.307770</td>\n",
       "      <td>0.305804</td>\n",
       "      <td>2202.88</td>\n",
       "      <td>5000.69</td>\n",
       "    </tr>\n",
       "  </tbody>\n",
       "</table>\n",
       "</div>"
      ],
      "text/plain": [
       "                  name     H     AB   average  eb_estimate   alpha1    beta1\n",
       "playerID                                                                    \n",
       "aaronha01   Hank Aaron  3771  12364  0.304998     0.303943  3846.88  8809.69\n",
       "piazzmi01  Mike Piazza  2127   6911  0.307770     0.305804  2202.88  5000.69"
      ]
     },
     "execution_count": 2,
     "metadata": {},
     "output_type": "execute_result"
    }
   ],
   "source": [
    "aaron = career_eb.query(\"name == 'Hank Aaron'\")\n",
    "piazza = career_eb.query(\"name == 'Mike Piazza'\")\n",
    "two_players = pd.concat([aaron, piazza])\n",
    "two_players"
   ]
  },
  {
   "cell_type": "code",
   "execution_count": 3,
   "metadata": {
    "collapsed": false,
    "deletable": true,
    "editable": true
   },
   "outputs": [
    {
     "data": {
      "text/html": [
       "<div>\n",
       "<table border=\"1\" class=\"dataframe\">\n",
       "  <thead>\n",
       "    <tr style=\"text-align: right;\">\n",
       "      <th></th>\n",
       "      <th>name</th>\n",
       "      <th>H</th>\n",
       "      <th>AB</th>\n",
       "      <th>average</th>\n",
       "      <th>eb_estimate</th>\n",
       "      <th>alpha1</th>\n",
       "      <th>beta1</th>\n",
       "    </tr>\n",
       "    <tr>\n",
       "      <th>playerID</th>\n",
       "      <th></th>\n",
       "      <th></th>\n",
       "      <th></th>\n",
       "      <th></th>\n",
       "      <th></th>\n",
       "      <th></th>\n",
       "      <th></th>\n",
       "    </tr>\n",
       "  </thead>\n",
       "  <tbody>\n",
       "    <tr>\n",
       "      <th>aaronha01</th>\n",
       "      <td>Hank Aaron</td>\n",
       "      <td>3771</td>\n",
       "      <td>12364</td>\n",
       "      <td>0.304998</td>\n",
       "      <td>0.303943</td>\n",
       "      <td>3846.88</td>\n",
       "      <td>8809.69</td>\n",
       "    </tr>\n",
       "    <tr>\n",
       "      <th>piazzmi01</th>\n",
       "      <td>Mike Piazza</td>\n",
       "      <td>2127</td>\n",
       "      <td>6911</td>\n",
       "      <td>0.307770</td>\n",
       "      <td>0.305804</td>\n",
       "      <td>2202.88</td>\n",
       "      <td>5000.69</td>\n",
       "    </tr>\n",
       "    <tr>\n",
       "      <th>matsuhi01</th>\n",
       "      <td>Hideki Matsui</td>\n",
       "      <td>1253</td>\n",
       "      <td>4442</td>\n",
       "      <td>0.282080</td>\n",
       "      <td>0.280676</td>\n",
       "      <td>1328.88</td>\n",
       "      <td>3405.69</td>\n",
       "    </tr>\n",
       "  </tbody>\n",
       "</table>\n",
       "</div>"
      ],
      "text/plain": [
       "                    name     H     AB   average  eb_estimate   alpha1    beta1\n",
       "playerID                                                                      \n",
       "aaronha01     Hank Aaron  3771  12364  0.304998     0.303943  3846.88  8809.69\n",
       "piazzmi01    Mike Piazza  2127   6911  0.307770     0.305804  2202.88  5000.69\n",
       "matsuhi01  Hideki Matsui  1253   4442  0.282080     0.280676  1328.88  3405.69"
      ]
     },
     "execution_count": 3,
     "metadata": {},
     "output_type": "execute_result"
    }
   ],
   "source": [
    "matsui = career_eb.query(\"name == 'Hideki Matsui'\")\n",
    "three_players = pd.concat([aaron, piazza, matsui])\n",
    "three_players"
   ]
  },
  {
   "cell_type": "markdown",
   "metadata": {
    "deletable": true,
    "editable": true
   },
   "source": [
    "### Figure 6.1"
   ]
  },
  {
   "cell_type": "code",
   "execution_count": 4,
   "metadata": {
    "collapsed": false,
    "deletable": true,
    "editable": true
   },
   "outputs": [
    {
     "data": {
      "image/png": "[encoded data removed]",
      "text/plain": [
       "<matplotlib.figure.Figure at 0x117cc1e80>"
      ]
     },
     "metadata": {},
     "output_type": "display_data"
    }
   ],
   "source": [
    "for idx, row in two_players.iterrows():\n",
    "    plt.hist(beta(row['alpha1'], row['beta1'], size=10000), label=row['name'], alpha=.5, bins=50)\n",
    "plt.legend();"
   ]
  },
  {
   "cell_type": "markdown",
   "metadata": {
    "deletable": true,
    "editable": true
   },
   "source": [
    "### Figure 6.2"
   ]
  },
  {
   "cell_type": "code",
   "execution_count": 5,
   "metadata": {
    "collapsed": false,
    "deletable": true,
    "editable": true
   },
   "outputs": [
    {
     "data": {
      "image/png": "[encoded data removed]",
      "text/plain": [
       "<matplotlib.figure.Figure at 0x110877940>"
      ]
     },
     "metadata": {},
     "output_type": "display_data"
    }
   ],
   "source": [
    "for idx, row in three_players.iterrows():\n",
    "    plt.hist(beta(row['alpha1'], row['beta1'], size=10000), label=row['name'], alpha=.5, bins=50)\n",
    "plt.legend();"
   ]
  },
  {
   "cell_type": "markdown",
   "metadata": {
    "deletable": true,
    "editable": true
   },
   "source": [
    "### Section 6.2.1 - Simulation of posterior draws"
   ]
  },
  {
   "cell_type": "code",
   "execution_count": 6,
   "metadata": {
    "collapsed": false,
    "deletable": true,
    "editable": true
   },
   "outputs": [
    {
     "data": {
      "text/plain": [
       "0.60758000000000001"
      ]
     },
     "execution_count": 6,
     "metadata": {},
     "output_type": "execute_result"
    }
   ],
   "source": [
    "piazza_simulation = beta(piazza['alpha1'], piazza['beta1'], size=int(1e6))\n",
    "aaron_simulation = beta(aaron['alpha1'], aaron['beta1'], size=int(1e6))\n",
    "\n",
    "(piazza_simulation > aaron_simulation).mean()"
   ]
  },
  {
   "cell_type": "markdown",
   "metadata": {
    "deletable": true,
    "editable": true
   },
   "source": [
    "### Section 6.2.2 - Integration"
   ]
  },
  {
   "cell_type": "markdown",
   "metadata": {
    "deletable": true,
    "editable": true
   },
   "source": [
    "I'm probably never going to do things this way so ... meh."
   ]
  },
  {
   "cell_type": "markdown",
   "metadata": {
    "deletable": true,
    "editable": true
   },
   "source": [
    "### Section 6.2.3 - Closed-form solution"
   ]
  },
  {
   "cell_type": "markdown",
   "metadata": {
    "deletable": true,
    "editable": true
   },
   "source": [
    "Can't really get this one to work, but let's be honest -- I use the simulation approach every time."
   ]
  },
  {
   "cell_type": "code",
   "execution_count": 7,
   "metadata": {
    "collapsed": false,
    "deletable": true,
    "editable": true
   },
   "outputs": [
    {
     "ename": "ValueError",
     "evalue": "Wrong number of items passed 3846, placement implies 1",
     "output_type": "error",
     "traceback": [
      "\u001b[0;31m---------------------------------------------------------------------------\u001b[0m",
      "\u001b[0;31mValueError\u001b[0m                                Traceback (most recent call last)",
      "\u001b[0;32m<ipython-input-7-9bdeb860f3b7>\u001b[0m in \u001b[0;36m<module>\u001b[0;34m()\u001b[0m\n\u001b[1;32m      7\u001b[0m     \u001b[0;32mreturn\u001b[0m \u001b[0;34m(\u001b[0m\u001b[0;36m1\u001b[0m \u001b[0;34m-\u001b[0m \u001b[0mnp\u001b[0m\u001b[0;34m.\u001b[0m\u001b[0msum\u001b[0m\u001b[0;34m(\u001b[0m\u001b[0mnp\u001b[0m\u001b[0;34m.\u001b[0m\u001b[0mexp\u001b[0m\u001b[0;34m(\u001b[0m\u001b[0mlog_vals\u001b[0m\u001b[0;34m)\u001b[0m\u001b[0;34m)\u001b[0m\u001b[0;34m)\u001b[0m\u001b[0;34m\u001b[0m\u001b[0m\n\u001b[1;32m      8\u001b[0m \u001b[0;34m\u001b[0m\u001b[0m\n\u001b[0;32m----> 9\u001b[0;31m \u001b[0mh\u001b[0m\u001b[0;34m(\u001b[0m\u001b[0mpiazza\u001b[0m\u001b[0;34m[\u001b[0m\u001b[0;34m'alpha1'\u001b[0m\u001b[0;34m]\u001b[0m\u001b[0;34m,\u001b[0m \u001b[0mpiazza\u001b[0m\u001b[0;34m[\u001b[0m\u001b[0;34m'beta1'\u001b[0m\u001b[0;34m]\u001b[0m\u001b[0;34m,\u001b[0m \u001b[0maaron\u001b[0m\u001b[0;34m[\u001b[0m\u001b[0;34m'alpha1'\u001b[0m\u001b[0;34m]\u001b[0m\u001b[0;34m,\u001b[0m \u001b[0maaron\u001b[0m\u001b[0;34m[\u001b[0m\u001b[0;34m'beta1'\u001b[0m\u001b[0;34m]\u001b[0m\u001b[0;34m)\u001b[0m\u001b[0;34m\u001b[0m\u001b[0m\n\u001b[0m",
      "\u001b[0;32m<ipython-input-7-9bdeb860f3b7>\u001b[0m in \u001b[0;36mh\u001b[0;34m(alpha_a, beta_a, alpha_b, beta_b)\u001b[0m\n\u001b[1;32m      4\u001b[0m     \u001b[0mj\u001b[0m \u001b[0;34m=\u001b[0m \u001b[0mnp\u001b[0m\u001b[0;34m.\u001b[0m\u001b[0marange\u001b[0m\u001b[0;34m(\u001b[0m\u001b[0;36m0\u001b[0m\u001b[0;34m,\u001b[0m \u001b[0mround\u001b[0m\u001b[0;34m(\u001b[0m\u001b[0malpha_b\u001b[0m\u001b[0;34m)\u001b[0m \u001b[0;34m-\u001b[0m \u001b[0;36m1\u001b[0m\u001b[0;34m)\u001b[0m\u001b[0;34m\u001b[0m\u001b[0m\n\u001b[1;32m      5\u001b[0m     log_vals = (betaln(alpha_a + j, beta_a + beta_b) - np.log(beta_b + j) -\n\u001b[0;32m----> 6\u001b[0;31m                 betaln(1 + j, beta_b) - betaln(alpha_a, beta_a))\n\u001b[0m\u001b[1;32m      7\u001b[0m     \u001b[0;32mreturn\u001b[0m \u001b[0;34m(\u001b[0m\u001b[0;36m1\u001b[0m \u001b[0;34m-\u001b[0m \u001b[0mnp\u001b[0m\u001b[0;34m.\u001b[0m\u001b[0msum\u001b[0m\u001b[0;34m(\u001b[0m\u001b[0mnp\u001b[0m\u001b[0;34m.\u001b[0m\u001b[0mexp\u001b[0m\u001b[0;34m(\u001b[0m\u001b[0mlog_vals\u001b[0m\u001b[0;34m)\u001b[0m\u001b[0;34m)\u001b[0m\u001b[0;34m)\u001b[0m\u001b[0;34m\u001b[0m\u001b[0m\n\u001b[1;32m      8\u001b[0m \u001b[0;34m\u001b[0m\u001b[0m\n",
      "\u001b[0;32m/Users/gregoryreda/Dropbox/empirical-bayes-book-python/venv/lib/python3.6/site-packages/pandas/core/ops.py\u001b[0m in \u001b[0;36mwrapper\u001b[0;34m(left, right, name, na_op)\u001b[0m\n\u001b[1;32m    719\u001b[0m             \u001b[0mindex\u001b[0m\u001b[0;34m=\u001b[0m\u001b[0mleft\u001b[0m\u001b[0;34m.\u001b[0m\u001b[0mindex\u001b[0m\u001b[0;34m,\u001b[0m\u001b[0;34m\u001b[0m\u001b[0m\n\u001b[1;32m    720\u001b[0m             \u001b[0mname\u001b[0m\u001b[0;34m=\u001b[0m\u001b[0mname\u001b[0m\u001b[0;34m,\u001b[0m\u001b[0;34m\u001b[0m\u001b[0m\n\u001b[0;32m--> 721\u001b[0;31m             \u001b[0mdtype\u001b[0m\u001b[0;34m=\u001b[0m\u001b[0mdtype\u001b[0m\u001b[0;34m,\u001b[0m\u001b[0;34m\u001b[0m\u001b[0m\n\u001b[0m\u001b[1;32m    722\u001b[0m         )\n\u001b[1;32m    723\u001b[0m \u001b[0;34m\u001b[0m\u001b[0m\n",
      "\u001b[0;32m/Users/gregoryreda/Dropbox/empirical-bayes-book-python/venv/lib/python3.6/site-packages/pandas/core/ops.py\u001b[0m in \u001b[0;36m_construct_result\u001b[0;34m(left, result, index, name, dtype)\u001b[0m\n\u001b[1;32m    627\u001b[0m \u001b[0;34m\u001b[0m\u001b[0m\n\u001b[1;32m    628\u001b[0m \u001b[0;32mdef\u001b[0m \u001b[0m_construct_result\u001b[0m\u001b[0;34m(\u001b[0m\u001b[0mleft\u001b[0m\u001b[0;34m,\u001b[0m \u001b[0mresult\u001b[0m\u001b[0;34m,\u001b[0m \u001b[0mindex\u001b[0m\u001b[0;34m,\u001b[0m \u001b[0mname\u001b[0m\u001b[0;34m,\u001b[0m \u001b[0mdtype\u001b[0m\u001b[0;34m)\u001b[0m\u001b[0;34m:\u001b[0m\u001b[0;34m\u001b[0m\u001b[0m\n\u001b[0;32m--> 629\u001b[0;31m     \u001b[0;32mreturn\u001b[0m \u001b[0mleft\u001b[0m\u001b[0;34m.\u001b[0m\u001b[0m_constructor\u001b[0m\u001b[0;34m(\u001b[0m\u001b[0mresult\u001b[0m\u001b[0;34m,\u001b[0m \u001b[0mindex\u001b[0m\u001b[0;34m=\u001b[0m\u001b[0mindex\u001b[0m\u001b[0;34m,\u001b[0m \u001b[0mname\u001b[0m\u001b[0;34m=\u001b[0m\u001b[0mname\u001b[0m\u001b[0;34m,\u001b[0m \u001b[0mdtype\u001b[0m\u001b[0;34m=\u001b[0m\u001b[0mdtype\u001b[0m\u001b[0;34m)\u001b[0m\u001b[0;34m\u001b[0m\u001b[0m\n\u001b[0m\u001b[1;32m    630\u001b[0m \u001b[0;34m\u001b[0m\u001b[0m\n\u001b[1;32m    631\u001b[0m \u001b[0;34m\u001b[0m\u001b[0m\n",
      "\u001b[0;32m/Users/gregoryreda/Dropbox/empirical-bayes-book-python/venv/lib/python3.6/site-packages/pandas/core/series.py\u001b[0m in \u001b[0;36m__init__\u001b[0;34m(self, data, index, dtype, name, copy, fastpath)\u001b[0m\n\u001b[1;32m    243\u001b[0m                                        raise_cast_failure=True)\n\u001b[1;32m    244\u001b[0m \u001b[0;34m\u001b[0m\u001b[0m\n\u001b[0;32m--> 245\u001b[0;31m                 \u001b[0mdata\u001b[0m \u001b[0;34m=\u001b[0m \u001b[0mSingleBlockManager\u001b[0m\u001b[0;34m(\u001b[0m\u001b[0mdata\u001b[0m\u001b[0;34m,\u001b[0m \u001b[0mindex\u001b[0m\u001b[0;34m,\u001b[0m \u001b[0mfastpath\u001b[0m\u001b[0;34m=\u001b[0m\u001b[0;32mTrue\u001b[0m\u001b[0;34m)\u001b[0m\u001b[0;34m\u001b[0m\u001b[0m\n\u001b[0m\u001b[1;32m    246\u001b[0m \u001b[0;34m\u001b[0m\u001b[0m\n\u001b[1;32m    247\u001b[0m         \u001b[0mgeneric\u001b[0m\u001b[0;34m.\u001b[0m\u001b[0mNDFrame\u001b[0m\u001b[0;34m.\u001b[0m\u001b[0m__init__\u001b[0m\u001b[0;34m(\u001b[0m\u001b[0mself\u001b[0m\u001b[0;34m,\u001b[0m \u001b[0mdata\u001b[0m\u001b[0;34m,\u001b[0m \u001b[0mfastpath\u001b[0m\u001b[0;34m=\u001b[0m\u001b[0;32mTrue\u001b[0m\u001b[0;34m)\u001b[0m\u001b[0;34m\u001b[0m\u001b[0m\n",
      "\u001b[0;32m/Users/gregoryreda/Dropbox/empirical-bayes-book-python/venv/lib/python3.6/site-packages/pandas/core/internals.py\u001b[0m in \u001b[0;36m__init__\u001b[0;34m(self, block, axis, do_integrity_check, fastpath)\u001b[0m\n\u001b[1;32m   4068\u001b[0m         \u001b[0;32mif\u001b[0m \u001b[0;32mnot\u001b[0m \u001b[0misinstance\u001b[0m\u001b[0;34m(\u001b[0m\u001b[0mblock\u001b[0m\u001b[0;34m,\u001b[0m \u001b[0mBlock\u001b[0m\u001b[0;34m)\u001b[0m\u001b[0;34m:\u001b[0m\u001b[0;34m\u001b[0m\u001b[0m\n\u001b[1;32m   4069\u001b[0m             block = make_block(block, placement=slice(0, len(axis)), ndim=1,\n\u001b[0;32m-> 4070\u001b[0;31m                                fastpath=True)\n\u001b[0m\u001b[1;32m   4071\u001b[0m \u001b[0;34m\u001b[0m\u001b[0m\n\u001b[1;32m   4072\u001b[0m         \u001b[0mself\u001b[0m\u001b[0;34m.\u001b[0m\u001b[0mblocks\u001b[0m \u001b[0;34m=\u001b[0m \u001b[0;34m[\u001b[0m\u001b[0mblock\u001b[0m\u001b[0;34m]\u001b[0m\u001b[0;34m\u001b[0m\u001b[0m\n",
      "\u001b[0;32m/Users/gregoryreda/Dropbox/empirical-bayes-book-python/venv/lib/python3.6/site-packages/pandas/core/internals.py\u001b[0m in \u001b[0;36mmake_block\u001b[0;34m(values, placement, klass, ndim, dtype, fastpath)\u001b[0m\n\u001b[1;32m   2683\u001b[0m                      placement=placement, dtype=dtype)\n\u001b[1;32m   2684\u001b[0m \u001b[0;34m\u001b[0m\u001b[0m\n\u001b[0;32m-> 2685\u001b[0;31m     \u001b[0;32mreturn\u001b[0m \u001b[0mklass\u001b[0m\u001b[0;34m(\u001b[0m\u001b[0mvalues\u001b[0m\u001b[0;34m,\u001b[0m \u001b[0mndim\u001b[0m\u001b[0;34m=\u001b[0m\u001b[0mndim\u001b[0m\u001b[0;34m,\u001b[0m \u001b[0mfastpath\u001b[0m\u001b[0;34m=\u001b[0m\u001b[0mfastpath\u001b[0m\u001b[0;34m,\u001b[0m \u001b[0mplacement\u001b[0m\u001b[0;34m=\u001b[0m\u001b[0mplacement\u001b[0m\u001b[0;34m)\u001b[0m\u001b[0;34m\u001b[0m\u001b[0m\n\u001b[0m\u001b[1;32m   2686\u001b[0m \u001b[0;34m\u001b[0m\u001b[0m\n\u001b[1;32m   2687\u001b[0m \u001b[0;31m# TODO: flexible with index=None and/or items=None\u001b[0m\u001b[0;34m\u001b[0m\u001b[0;34m\u001b[0m\u001b[0m\n",
      "\u001b[0;32m/Users/gregoryreda/Dropbox/empirical-bayes-book-python/venv/lib/python3.6/site-packages/pandas/core/internals.py\u001b[0m in \u001b[0;36m__init__\u001b[0;34m(self, values, placement, ndim, fastpath)\u001b[0m\n\u001b[1;32m    107\u001b[0m             raise ValueError('Wrong number of items passed %d, placement '\n\u001b[1;32m    108\u001b[0m                              'implies %d' % (len(self.values),\n\u001b[0;32m--> 109\u001b[0;31m                                              len(self.mgr_locs)))\n\u001b[0m\u001b[1;32m    110\u001b[0m \u001b[0;34m\u001b[0m\u001b[0m\n\u001b[1;32m    111\u001b[0m     \u001b[0;34m@\u001b[0m\u001b[0mproperty\u001b[0m\u001b[0;34m\u001b[0m\u001b[0m\n",
      "\u001b[0;31mValueError\u001b[0m: Wrong number of items passed 3846, placement implies 1"
     ]
    }
   ],
   "source": [
    "from scipy.special import betaln\n",
    "\n",
    "def h(alpha_a, beta_a, alpha_b, beta_b):\n",
    "    j = np.arange(0, round(alpha_b) - 1)\n",
    "    log_vals = (betaln(alpha_a + j, beta_a + beta_b) - np.log(beta_b + j) -\n",
    "                betaln(1 + j, beta_b) - betaln(alpha_a, beta_a))\n",
    "    return (1 - np.sum(np.exp(log_vals)))\n",
    "\n",
    "h(piazza['alpha1'], piazza['beta1'], aaron['alpha1'], aaron['beta1'])"
   ]
  },
  {
   "cell_type": "markdown",
   "metadata": {
    "deletable": true,
    "editable": true
   },
   "source": [
    "### Section 6.2.4 - Closed-form approximation"
   ]
  },
  {
   "cell_type": "code",
   "execution_count": 12,
   "metadata": {
    "collapsed": false,
    "deletable": true,
    "editable": true
   },
   "outputs": [
    {
     "data": {
      "text/plain": [
       "0.60787909356892034"
      ]
     },
     "execution_count": 12,
     "metadata": {},
     "output_type": "execute_result"
    }
   ],
   "source": [
    "def h_approx(alpha_a, beta_a, alpha_b, beta_b):\n",
    "    u1 = alpha_a / (alpha_a + beta_a)\n",
    "    u2 = alpha_b / (alpha_b + beta_b)\n",
    "    var1 = ((alpha_a * beta_a) /\n",
    "        ((alpha_a + beta_a) ** 2 * (alpha_a + beta_a + 1)))\n",
    "    var2 = ((alpha_b * beta_b) / \n",
    "        ((alpha_b + beta_b) ** 2 * (alpha_b + beta_b + 1)))\n",
    "    return ss.norm(u2 - u1, np.sqrt(var1 + var2)).cdf(0)\n",
    "\n",
    "\n",
    "alpha_a = piazza['alpha1'][0]\n",
    "beta_a = piazza['beta1'][0]\n",
    "alpha_b = aaron['alpha1'][0]\n",
    "beta_b = aaron['beta1'][0]\n",
    "\n",
    "h_approx(alpha_a, beta_a, alpha_b, beta_b)"
   ]
  },
  {
   "cell_type": "markdown",
   "metadata": {
    "deletable": true,
    "editable": true
   },
   "source": [
    "### Figure 6.4"
   ]
  },
  {
   "cell_type": "markdown",
   "metadata": {
    "deletable": true,
    "editable": true
   },
   "source": [
    "Will get back to this at some point"
   ]
  },
  {
   "cell_type": "code",
   "execution_count": 13,
   "metadata": {
    "collapsed": false,
    "deletable": true,
    "editable": true
   },
   "outputs": [
    {
     "data": {
      "text/plain": [
       "<matplotlib.legend.Legend at 0x113cdecc0>"
      ]
     },
     "execution_count": 13,
     "metadata": {},
     "output_type": "execute_result"
    },
    {
     "data": {
      "image/png": "[encoded data removed]",
      "text/plain": [
       "<matplotlib.figure.Figure at 0x1139a0208>"
      ]
     },
     "metadata": {},
     "output_type": "display_data"
    }
   ],
   "source": [
    "# TODO: finish this\n",
    "for idx, row in two_players.iterrows():\n",
    "    beta_x = np.linspace(ss.beta(row['alpha1'], row['beta1']).ppf(0.01),\n",
    "                         ss.beta(row['alpha1'], row['beta1']).ppf(0.99))\n",
    "    plt.plot(beta_x, ss.beta(row['alpha1'], row['beta1']).pdf(beta_x), label=row['name'] + ' (beta)')\n",
    "    \n",
    "    normal_x = np.linspace(ss.norm(row['alpha1'], row['beta1']).ppf(0.01),\n",
    "                           ss.norm(row['alpha1'], row['beta1']).ppf(0.99))\n",
    "    plt.plot(normal_x, ss.norm.pdf(normal_x, row['alpha1'], row['beta1']), label=row['name'] + ' (normal)')\n",
    "plt.legend()"
   ]
  },
  {
   "cell_type": "markdown",
   "metadata": {
    "deletable": true,
    "editable": true
   },
   "source": [
    "## Section 6.3 - Confidence and credible intervals"
   ]
  },
  {
   "cell_type": "markdown",
   "metadata": {
    "deletable": true,
    "editable": true
   },
   "source": [
    "`prop.test` equivalent"
   ]
  },
  {
   "cell_type": "code",
   "execution_count": 14,
   "metadata": {
    "collapsed": false,
    "deletable": true,
    "editable": true
   },
   "outputs": [
    {
     "data": {
      "text/html": [
       "<div>\n",
       "<table border=\"1\" class=\"dataframe\">\n",
       "  <thead>\n",
       "    <tr style=\"text-align: right;\">\n",
       "      <th></th>\n",
       "      <th>Hits</th>\n",
       "      <th>Misses</th>\n",
       "    </tr>\n",
       "    <tr>\n",
       "      <th>name</th>\n",
       "      <th></th>\n",
       "      <th></th>\n",
       "    </tr>\n",
       "  </thead>\n",
       "  <tbody>\n",
       "    <tr>\n",
       "      <th>Hank Aaron</th>\n",
       "      <td>3771</td>\n",
       "      <td>8593</td>\n",
       "    </tr>\n",
       "    <tr>\n",
       "      <th>Mike Piazza</th>\n",
       "      <td>2127</td>\n",
       "      <td>4784</td>\n",
       "    </tr>\n",
       "  </tbody>\n",
       "</table>\n",
       "</div>"
      ],
      "text/plain": [
       "             Hits  Misses\n",
       "name                     \n",
       "Hank Aaron   3771    8593\n",
       "Mike Piazza  2127    4784"
      ]
     },
     "execution_count": 14,
     "metadata": {},
     "output_type": "execute_result"
    }
   ],
   "source": [
    "contingency_table = (two_players[['name', 'H', 'AB']]\n",
    "                     .assign(Misses = lambda df: df.apply(lambda r: r['AB'] - r['H'], axis=1))\n",
    "                     .rename(columns={'H': 'Hits'})\n",
    "                     .reset_index()\n",
    "                     [['name', 'Hits', 'Misses']]\n",
    "                     .set_index('name')\n",
    "                    )\n",
    "\n",
    "contingency_table"
   ]
  },
  {
   "cell_type": "code",
   "execution_count": 15,
   "metadata": {
    "collapsed": false,
    "deletable": true,
    "editable": true
   },
   "outputs": [
    {
     "name": "stdout",
     "output_type": "stream",
     "text": [
      "x-squared = 0.14759918995919924\n",
      "degrees of freedom = 1\n",
      "p-value = 0.7008402975255545\n"
     ]
    }
   ],
   "source": [
    "x_squared, p_value, dof, expected = ss.chi2_contingency(contingency_table)\n",
    "\n",
    "print('x-squared = {}'.format(x_squared))\n",
    "print('degrees of freedom = {}'.format(dof))\n",
    "print('p-value = {}'.format(p_value))"
   ]
  },
  {
   "cell_type": "code",
   "execution_count": 16,
   "metadata": {
    "collapsed": false,
    "deletable": true,
    "editable": true
   },
   "outputs": [
    {
     "data": {
      "text/plain": [
       "{'conf_high': 0.011517458976224963,\n",
       " 'conf_low': -0.015601753893191843,\n",
       " 'estimate': -0.0018606003171035002,\n",
       " 'posterior': 0.61460000000000004}"
      ]
     },
     "execution_count": 16,
     "metadata": {},
     "output_type": "execute_result"
    }
   ],
   "source": [
    "def credible_interval_approx(a, b, c, d):\n",
    "    u1 = a / (a + b)\n",
    "    u2 = c / (c + d)\n",
    "    var1 = a * b / ((a + b) ** 2 * (a + b + 1))\n",
    "    var2 = c * d / ((c + d) ** 2 * (c + d + 1))\n",
    "\n",
    "    mu_diff = u2 - u1\n",
    "    sd_diff = np.sqrt(var1 + var2)\n",
    "\n",
    "    norm_sim = np.random.normal(mu_diff, sd_diff, size=10000)\n",
    "    return {\n",
    "        'posterior': (pd.Series(norm_sim) < 0).mean(),\n",
    "        'estimate': mu_diff,\n",
    "        'conf_low': np.percentile(norm_sim, q=2.5),\n",
    "        'conf_high': np.percentile(norm_sim, q=97.5)\n",
    "    }\n",
    "\n",
    "a = piazza['alpha1'][0]\n",
    "b = piazza['beta1'][0]\n",
    "c = aaron['alpha1'][0]\n",
    "d = aaron['beta1'][0]\n",
    "\n",
    "credible_interval_approx(a, b, c, d)"
   ]
  },
  {
   "cell_type": "markdown",
   "metadata": {
    "deletable": true,
    "editable": true
   },
   "source": [
    "### Figure 6.5"
   ]
  },
  {
   "cell_type": "markdown",
   "metadata": {
    "deletable": true,
    "editable": true
   },
   "source": [
    "These errorbar boxplot-like charts are a nightmare to do in Python, especially when they have a categorical y-axis.\n",
    "\n",
    "I would take the small-multiples approach and make histograms for each player, also putting dashed lines at the 95% credible intervals. You can find an example of this in my notebook [here](https://github.com/gjreda/cy-young-NL-2015/blob/master/cy-young.ipynb)."
   ]
  }
 ],
 "metadata": {
  "kernelspec": {
   "display_name": "Python 3",
   "language": "python",
   "name": "python3"
  },
  "language_info": {
   "codemirror_mode": {
    "name": "ipython",
    "version": 3
   },
   "file_extension": ".py",
   "mimetype": "text/x-python",
   "name": "python",
   "nbconvert_exporter": "python",
   "pygments_lexer": "ipython3",
   "version": "3.6.0"
  }
 },
 "nbformat": 4,
 "nbformat_minor": 2
}
