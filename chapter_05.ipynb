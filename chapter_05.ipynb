{
 "cells": [
  {
   "cell_type": "markdown",
   "metadata": {
    "deletable": true,
    "editable": true
   },
   "source": [
    "# Chapter 05 - Hypothesis Testing and FDR\n",
    "### Setup Environment"
   ]
  },
  {
   "cell_type": "code",
   "execution_count": 1,
   "metadata": {
    "collapsed": false,
    "deletable": true,
    "editable": true
   },
   "outputs": [
    {
     "data": {
      "text/html": [
       "<div>\n",
       "<table border=\"1\" class=\"dataframe\">\n",
       "  <thead>\n",
       "    <tr style=\"text-align: right;\">\n",
       "      <th></th>\n",
       "      <th>name</th>\n",
       "      <th>H</th>\n",
       "      <th>AB</th>\n",
       "      <th>average</th>\n",
       "      <th>eb_estimate</th>\n",
       "      <th>alpha1</th>\n",
       "      <th>beta1</th>\n",
       "    </tr>\n",
       "    <tr>\n",
       "      <th>playerID</th>\n",
       "      <th></th>\n",
       "      <th></th>\n",
       "      <th></th>\n",
       "      <th></th>\n",
       "      <th></th>\n",
       "      <th></th>\n",
       "      <th></th>\n",
       "    </tr>\n",
       "  </thead>\n",
       "  <tbody>\n",
       "    <tr>\n",
       "      <th>aaronha01</th>\n",
       "      <td>Hank Aaron</td>\n",
       "      <td>3771</td>\n",
       "      <td>12364</td>\n",
       "      <td>0.304998</td>\n",
       "      <td>0.303943</td>\n",
       "      <td>3846.88</td>\n",
       "      <td>8809.69</td>\n",
       "    </tr>\n",
       "    <tr>\n",
       "      <th>aaronto01</th>\n",
       "      <td>Tommie Aaron</td>\n",
       "      <td>216</td>\n",
       "      <td>944</td>\n",
       "      <td>0.228814</td>\n",
       "      <td>0.236040</td>\n",
       "      <td>291.88</td>\n",
       "      <td>944.69</td>\n",
       "    </tr>\n",
       "    <tr>\n",
       "      <th>abadan01</th>\n",
       "      <td>Andy Abad</td>\n",
       "      <td>2</td>\n",
       "      <td>21</td>\n",
       "      <td>0.095238</td>\n",
       "      <td>0.248366</td>\n",
       "      <td>77.88</td>\n",
       "      <td>235.69</td>\n",
       "    </tr>\n",
       "    <tr>\n",
       "      <th>abadijo01</th>\n",
       "      <td>John Abadie</td>\n",
       "      <td>11</td>\n",
       "      <td>49</td>\n",
       "      <td>0.224490</td>\n",
       "      <td>0.254355</td>\n",
       "      <td>86.88</td>\n",
       "      <td>254.69</td>\n",
       "    </tr>\n",
       "    <tr>\n",
       "      <th>abbated01</th>\n",
       "      <td>Ed Abbaticchio</td>\n",
       "      <td>772</td>\n",
       "      <td>3044</td>\n",
       "      <td>0.253614</td>\n",
       "      <td>0.254117</td>\n",
       "      <td>847.88</td>\n",
       "      <td>2488.69</td>\n",
       "    </tr>\n",
       "  </tbody>\n",
       "</table>\n",
       "</div>"
      ],
      "text/plain": [
       "                     name     H     AB   average  eb_estimate   alpha1  \\\n",
       "playerID                                                                 \n",
       "aaronha01      Hank Aaron  3771  12364  0.304998     0.303943  3846.88   \n",
       "aaronto01    Tommie Aaron   216    944  0.228814     0.236040   291.88   \n",
       "abadan01        Andy Abad     2     21  0.095238     0.248366    77.88   \n",
       "abadijo01     John Abadie    11     49  0.224490     0.254355    86.88   \n",
       "abbated01  Ed Abbaticchio   772   3044  0.253614     0.254117   847.88   \n",
       "\n",
       "             beta1  \n",
       "playerID            \n",
       "aaronha01  8809.69  \n",
       "aaronto01   944.69  \n",
       "abadan01    235.69  \n",
       "abadijo01   254.69  \n",
       "abbated01  2488.69  "
      ]
     },
     "execution_count": 1,
     "metadata": {},
     "output_type": "execute_result"
    }
   ],
   "source": [
    "import pandas as pd\n",
    "import numpy as np\n",
    "import matplotlib.pyplot as plt\n",
    "import scipy.stats as ss\n",
    "from numpy.random import beta, binomial\n",
    "\n",
    "pd.set_option('display.max_columns', 50)\n",
    "pd.set_option('display.max_rows', 100)\n",
    "\n",
    "%matplotlib inline\n",
    "\n",
    "# read into dataframes\n",
    "Batting = pd.read_csv('data/Batting.csv', index_col=['playerID', 'yearID'])\n",
    "Pitching = pd.read_csv('data/Pitching.csv', index_col=['playerID', 'yearID'])\n",
    "Master = pd.read_csv('data/Master.csv', index_col='playerID')\n",
    "\n",
    "career = (Batting\n",
    "          .query(\"AB > 0\")\n",
    "          .join(Pitching, how='left', rsuffix='_')\n",
    "          .query(\"teamID_ != teamID_\")  # IS NULL hack for `query` method -> only Batters\n",
    "          .groupby(level=0)  # group by index -> playerID\n",
    "          .agg({'H': np.sum, 'AB': np.sum})\n",
    "          .assign(average = lambda x: x['H'] / x['AB'])\n",
    "         )\n",
    "\n",
    "career = (career\n",
    "          .join(Master)\n",
    "          .assign(name = lambda x: x['nameFirst'] + ' ' + x['nameLast'])\n",
    "          [['name', 'H', 'AB', 'average']]  # select only columns we want\n",
    "         )\n",
    "\n",
    "# priors estimated in chapter 3\n",
    "alpha0 = 75.88\n",
    "beta0 = 216.69\n",
    "\n",
    "eb_estimate_func = lambda x: (x['H'] + alpha0) / (x['AB'] + alpha0 + beta0)\n",
    "\n",
    "career_eb = career.assign(eb_estimate=eb_estimate_func)\n",
    "\n",
    "career_eb = career_eb.assign(alpha1 = lambda x: alpha0 + x['H'],\n",
    "                             beta1 = lambda x: beta0 + x['AB'] - x['H'])\n",
    "career_eb.head()"
   ]
  },
  {
   "cell_type": "markdown",
   "metadata": {
    "deletable": true,
    "editable": true
   },
   "source": [
    "## Section 5.2 - Posterior Error Probabilities"
   ]
  },
  {
   "cell_type": "markdown",
   "metadata": {
    "deletable": true,
    "editable": true
   },
   "source": [
    "This section's example talks about creating a theoretical Hall of Fame, where a player is included if their \"true average\" is >= .300.\n",
    "\n",
    "Python doesn't have an equivalent to R's `pbeta`, so we'll have to make our own."
   ]
  },
  {
   "cell_type": "code",
   "execution_count": 2,
   "metadata": {
    "collapsed": true,
    "deletable": true,
    "editable": true
   },
   "outputs": [],
   "source": [
    "def pbeta(alpha, beta_, q, lower_tail=True, size=10000):\n",
    "    \"\"\"\n",
    "    Returns the Posterior Error Probability for a given `q`.\n",
    "    \n",
    "    This is more or less the counterpart to `np.percentile`.\n",
    "    \n",
    "    Parameters\n",
    "    ----------\n",
    "    alpha: float\n",
    "    beta: float\n",
    "    q: float\n",
    "    lower_tail: boolean, default True\n",
    "    size: int, default 10000\n",
    "    \"\"\"\n",
    "    s = pd.Series(beta(alpha, beta_, size=size))\n",
    "    if not lower_tail:\n",
    "        return (s > q).mean()\n",
    "    return (s < q).mean()"
   ]
  },
  {
   "cell_type": "markdown",
   "metadata": {
    "deletable": true,
    "editable": true
   },
   "source": [
    "### Figure 5.1"
   ]
  },
  {
   "cell_type": "code",
   "execution_count": 3,
   "metadata": {
    "collapsed": false,
    "deletable": true,
    "editable": true
   },
   "outputs": [
    {
     "data": {
      "image/png": "[encoded data removed]",
      "text/plain": [
       "<matplotlib.figure.Figure at 0x108faffd0>"
      ]
     },
     "metadata": {},
     "output_type": "display_data"
    }
   ],
   "source": [
    "plt.hist(beta(3846.88, 8809.69, size=10000), bins=50);"
   ]
  },
  {
   "cell_type": "code",
   "execution_count": 4,
   "metadata": {
    "collapsed": false,
    "deletable": true,
    "editable": true
   },
   "outputs": [
    {
     "data": {
      "text/plain": [
       "<matplotlib.lines.Line2D at 0x10d743f28>"
      ]
     },
     "execution_count": 4,
     "metadata": {},
     "output_type": "execute_result"
    },
    {
     "data": {
      "image/png": "[encoded data removed]",
      "text/plain": [
       "<matplotlib.figure.Figure at 0x108f7b5c0>"
      ]
     },
     "metadata": {},
     "output_type": "display_data"
    }
   ],
   "source": [
    "aaron = career_eb.loc['aaronha01'].to_dict()\n",
    "d = beta(aaron['alpha1'], aaron['beta1'], size=10000)\n",
    "pd.Series(d).plot.kde()\n",
    "plt.axvline(.3, color='r', linestyle='--')"
   ]
  },
  {
   "cell_type": "code",
   "execution_count": 5,
   "metadata": {
    "collapsed": false,
    "deletable": true,
    "editable": true
   },
   "outputs": [
    {
     "data": {
      "text/plain": [
       "0.16919999999999999"
      ]
     },
     "execution_count": 5,
     "metadata": {},
     "output_type": "execute_result"
    }
   ],
   "source": [
    "# Probability of Hank Aaron's true average being < .300\n",
    "pbeta(3850., 8818., .3)"
   ]
  },
  {
   "cell_type": "markdown",
   "metadata": {
    "deletable": true,
    "editable": true
   },
   "source": [
    "Adding Posterior Error Probability to our dataframe."
   ]
  },
  {
   "cell_type": "code",
   "execution_count": 6,
   "metadata": {
    "collapsed": false,
    "deletable": true,
    "editable": true
   },
   "outputs": [
    {
     "data": {
      "text/html": [
       "<div>\n",
       "<table border=\"1\" class=\"dataframe\">\n",
       "  <thead>\n",
       "    <tr style=\"text-align: right;\">\n",
       "      <th></th>\n",
       "      <th>name</th>\n",
       "      <th>H</th>\n",
       "      <th>AB</th>\n",
       "      <th>average</th>\n",
       "      <th>eb_estimate</th>\n",
       "      <th>alpha1</th>\n",
       "      <th>beta1</th>\n",
       "      <th>PEP</th>\n",
       "    </tr>\n",
       "    <tr>\n",
       "      <th>playerID</th>\n",
       "      <th></th>\n",
       "      <th></th>\n",
       "      <th></th>\n",
       "      <th></th>\n",
       "      <th></th>\n",
       "      <th></th>\n",
       "      <th></th>\n",
       "      <th></th>\n",
       "    </tr>\n",
       "  </thead>\n",
       "  <tbody>\n",
       "    <tr>\n",
       "      <th>aaronha01</th>\n",
       "      <td>Hank Aaron</td>\n",
       "      <td>3771</td>\n",
       "      <td>12364</td>\n",
       "      <td>0.304998</td>\n",
       "      <td>0.303943</td>\n",
       "      <td>3846.88</td>\n",
       "      <td>8809.69</td>\n",
       "      <td>0.1688</td>\n",
       "    </tr>\n",
       "    <tr>\n",
       "      <th>aaronto01</th>\n",
       "      <td>Tommie Aaron</td>\n",
       "      <td>216</td>\n",
       "      <td>944</td>\n",
       "      <td>0.228814</td>\n",
       "      <td>0.236040</td>\n",
       "      <td>291.88</td>\n",
       "      <td>944.69</td>\n",
       "      <td>1.0000</td>\n",
       "    </tr>\n",
       "    <tr>\n",
       "      <th>abadan01</th>\n",
       "      <td>Andy Abad</td>\n",
       "      <td>2</td>\n",
       "      <td>21</td>\n",
       "      <td>0.095238</td>\n",
       "      <td>0.248366</td>\n",
       "      <td>77.88</td>\n",
       "      <td>235.69</td>\n",
       "      <td>0.9788</td>\n",
       "    </tr>\n",
       "    <tr>\n",
       "      <th>abadijo01</th>\n",
       "      <td>John Abadie</td>\n",
       "      <td>11</td>\n",
       "      <td>49</td>\n",
       "      <td>0.224490</td>\n",
       "      <td>0.254355</td>\n",
       "      <td>86.88</td>\n",
       "      <td>254.69</td>\n",
       "      <td>0.9697</td>\n",
       "    </tr>\n",
       "    <tr>\n",
       "      <th>abbated01</th>\n",
       "      <td>Ed Abbaticchio</td>\n",
       "      <td>772</td>\n",
       "      <td>3044</td>\n",
       "      <td>0.253614</td>\n",
       "      <td>0.254117</td>\n",
       "      <td>847.88</td>\n",
       "      <td>2488.69</td>\n",
       "      <td>1.0000</td>\n",
       "    </tr>\n",
       "  </tbody>\n",
       "</table>\n",
       "</div>"
      ],
      "text/plain": [
       "                     name     H     AB   average  eb_estimate   alpha1  \\\n",
       "playerID                                                                 \n",
       "aaronha01      Hank Aaron  3771  12364  0.304998     0.303943  3846.88   \n",
       "aaronto01    Tommie Aaron   216    944  0.228814     0.236040   291.88   \n",
       "abadan01        Andy Abad     2     21  0.095238     0.248366    77.88   \n",
       "abadijo01     John Abadie    11     49  0.224490     0.254355    86.88   \n",
       "abbated01  Ed Abbaticchio   772   3044  0.253614     0.254117   847.88   \n",
       "\n",
       "             beta1     PEP  \n",
       "playerID                    \n",
       "aaronha01  8809.69  0.1688  \n",
       "aaronto01   944.69  1.0000  \n",
       "abadan01    235.69  0.9788  \n",
       "abadijo01   254.69  0.9697  \n",
       "abbated01  2488.69  1.0000  "
      ]
     },
     "execution_count": 6,
     "metadata": {},
     "output_type": "execute_result"
    }
   ],
   "source": [
    "# this code takes a bit to run (~18s) as we're generating Beta distributions with 10k observations for each player\n",
    "career_eb = (career_eb\n",
    "             .assign(PEP = lambda df: df.apply(lambda x: pbeta(x['alpha1'], x['beta1'], q=.3), axis=1))\n",
    "            )\n",
    "\n",
    "career_eb.head()"
   ]
  },
  {
   "cell_type": "markdown",
   "metadata": {
    "deletable": true,
    "editable": true
   },
   "source": [
    "### Figure 5.2"
   ]
  },
  {
   "cell_type": "code",
   "execution_count": 7,
   "metadata": {
    "collapsed": false,
    "deletable": true,
    "editable": true
   },
   "outputs": [
    {
     "data": {
      "text/plain": [
       "<matplotlib.text.Text at 0x10b4850b8>"
      ]
     },
     "execution_count": 7,
     "metadata": {},
     "output_type": "execute_result"
    },
    {
     "data": {
      "image/png": "[encoded data removed]",
      "text/plain": [
       "<matplotlib.figure.Figure at 0x10b4807f0>"
      ]
     },
     "metadata": {},
     "output_type": "display_data"
    }
   ],
   "source": [
    "career_eb['PEP'].hist(bins=50)\n",
    "plt.xlabel('Posterior Error Probability (PEP)')\n",
    "plt.ylabel('count')"
   ]
  },
  {
   "cell_type": "markdown",
   "metadata": {
    "deletable": true,
    "editable": true
   },
   "source": [
    "### Figure 5.3"
   ]
  },
  {
   "cell_type": "code",
   "execution_count": 8,
   "metadata": {
    "collapsed": false,
    "deletable": true,
    "editable": true
   },
   "outputs": [
    {
     "data": {
      "text/plain": [
       "<matplotlib.text.Text at 0x10b5b0c50>"
      ]
     },
     "execution_count": 8,
     "metadata": {},
     "output_type": "execute_result"
    },
    {
     "data": {
      "image/png": "[encoded data removed]",
      "text/plain": [
       "<matplotlib.figure.Figure at 0x10b4acfd0>"
      ]
     },
     "metadata": {},
     "output_type": "display_data"
    }
   ],
   "source": [
    "# recall that use of `sharex` is due to a bug (see Chapter 3)\n",
    "career_eb.plot.scatter(x='eb_estimate', y='PEP', c='AB',\n",
    "                       colormap='Blues_r', grid=True, figsize=(8,6),\n",
    "                       sharex=False)\n",
    "plt.axvline(.3, color='r', linestyle='--')\n",
    "plt.xlabel('(Shrunken) Batting Average Estimate')\n",
    "plt.ylabel('Posterior Error Probability (PEP)')"
   ]
  },
  {
   "cell_type": "markdown",
   "metadata": {
    "deletable": true,
    "editable": true
   },
   "source": [
    "## Section 5.3 - False Discovery Rates"
   ]
  },
  {
   "cell_type": "code",
   "execution_count": 9,
   "metadata": {
    "collapsed": false,
    "deletable": true,
    "editable": true
   },
   "outputs": [
    {
     "data": {
      "text/html": [
       "<div>\n",
       "<table border=\"1\" class=\"dataframe\">\n",
       "  <thead>\n",
       "    <tr style=\"text-align: right;\">\n",
       "      <th></th>\n",
       "      <th>name</th>\n",
       "      <th>H</th>\n",
       "      <th>AB</th>\n",
       "      <th>average</th>\n",
       "      <th>eb_estimate</th>\n",
       "      <th>alpha1</th>\n",
       "      <th>beta1</th>\n",
       "      <th>PEP</th>\n",
       "    </tr>\n",
       "    <tr>\n",
       "      <th>playerID</th>\n",
       "      <th></th>\n",
       "      <th></th>\n",
       "      <th></th>\n",
       "      <th></th>\n",
       "      <th></th>\n",
       "      <th></th>\n",
       "      <th></th>\n",
       "      <th></th>\n",
       "    </tr>\n",
       "  </thead>\n",
       "  <tbody>\n",
       "    <tr>\n",
       "      <th>cobbty01</th>\n",
       "      <td>Ty Cobb</td>\n",
       "      <td>3871</td>\n",
       "      <td>10598</td>\n",
       "      <td>0.365258</td>\n",
       "      <td>0.362413</td>\n",
       "      <td>3946.88</td>\n",
       "      <td>6943.69</td>\n",
       "      <td>0.0</td>\n",
       "    </tr>\n",
       "    <tr>\n",
       "      <th>hornsro01</th>\n",
       "      <td>Rogers Hornsby</td>\n",
       "      <td>2930</td>\n",
       "      <td>8173</td>\n",
       "      <td>0.358497</td>\n",
       "      <td>0.355071</td>\n",
       "      <td>3005.88</td>\n",
       "      <td>5459.69</td>\n",
       "      <td>0.0</td>\n",
       "    </tr>\n",
       "    <tr>\n",
       "      <th>jacksjo01</th>\n",
       "      <td>Shoeless Joe Jackson</td>\n",
       "      <td>1772</td>\n",
       "      <td>4981</td>\n",
       "      <td>0.355752</td>\n",
       "      <td>0.350404</td>\n",
       "      <td>1847.88</td>\n",
       "      <td>3425.69</td>\n",
       "      <td>0.0</td>\n",
       "    </tr>\n",
       "    <tr>\n",
       "      <th>odoulle01</th>\n",
       "      <td>Lefty O'Doul</td>\n",
       "      <td>1126</td>\n",
       "      <td>3192</td>\n",
       "      <td>0.352757</td>\n",
       "      <td>0.344915</td>\n",
       "      <td>1201.88</td>\n",
       "      <td>2282.69</td>\n",
       "      <td>0.0</td>\n",
       "    </tr>\n",
       "    <tr>\n",
       "      <th>delahed01</th>\n",
       "      <td>Ed Delahanty</td>\n",
       "      <td>2596</td>\n",
       "      <td>7505</td>\n",
       "      <td>0.345903</td>\n",
       "      <td>0.342655</td>\n",
       "      <td>2671.88</td>\n",
       "      <td>5125.69</td>\n",
       "      <td>0.0</td>\n",
       "    </tr>\n",
       "    <tr>\n",
       "      <th>speaktr01</th>\n",
       "      <td>Tris Speaker</td>\n",
       "      <td>3321</td>\n",
       "      <td>9624</td>\n",
       "      <td>0.345075</td>\n",
       "      <td>0.342546</td>\n",
       "      <td>3396.88</td>\n",
       "      <td>6519.69</td>\n",
       "      <td>0.0</td>\n",
       "    </tr>\n",
       "    <tr>\n",
       "      <th>willite01</th>\n",
       "      <td>Ted Williams</td>\n",
       "      <td>2461</td>\n",
       "      <td>7145</td>\n",
       "      <td>0.344437</td>\n",
       "      <td>0.341090</td>\n",
       "      <td>2536.88</td>\n",
       "      <td>4900.69</td>\n",
       "      <td>0.0</td>\n",
       "    </tr>\n",
       "    <tr>\n",
       "      <th>hamilbi01</th>\n",
       "      <td>Billy Hamilton</td>\n",
       "      <td>2158</td>\n",
       "      <td>6268</td>\n",
       "      <td>0.344288</td>\n",
       "      <td>0.340501</td>\n",
       "      <td>2233.88</td>\n",
       "      <td>4326.69</td>\n",
       "      <td>0.0</td>\n",
       "    </tr>\n",
       "    <tr>\n",
       "      <th>sislege01</th>\n",
       "      <td>George Sisler</td>\n",
       "      <td>1565</td>\n",
       "      <td>4528</td>\n",
       "      <td>0.345627</td>\n",
       "      <td>0.340391</td>\n",
       "      <td>1640.88</td>\n",
       "      <td>3179.69</td>\n",
       "      <td>0.0</td>\n",
       "    </tr>\n",
       "    <tr>\n",
       "      <th>ruthba01</th>\n",
       "      <td>Babe Ruth</td>\n",
       "      <td>1831</td>\n",
       "      <td>5314</td>\n",
       "      <td>0.344562</td>\n",
       "      <td>0.340115</td>\n",
       "      <td>1906.88</td>\n",
       "      <td>3699.69</td>\n",
       "      <td>0.0</td>\n",
       "    </tr>\n",
       "  </tbody>\n",
       "</table>\n",
       "</div>"
      ],
      "text/plain": [
       "                           name     H     AB   average  eb_estimate   alpha1  \\\n",
       "playerID                                                                       \n",
       "cobbty01                Ty Cobb  3871  10598  0.365258     0.362413  3946.88   \n",
       "hornsro01        Rogers Hornsby  2930   8173  0.358497     0.355071  3005.88   \n",
       "jacksjo01  Shoeless Joe Jackson  1772   4981  0.355752     0.350404  1847.88   \n",
       "odoulle01          Lefty O'Doul  1126   3192  0.352757     0.344915  1201.88   \n",
       "delahed01          Ed Delahanty  2596   7505  0.345903     0.342655  2671.88   \n",
       "speaktr01          Tris Speaker  3321   9624  0.345075     0.342546  3396.88   \n",
       "willite01          Ted Williams  2461   7145  0.344437     0.341090  2536.88   \n",
       "hamilbi01        Billy Hamilton  2158   6268  0.344288     0.340501  2233.88   \n",
       "sislege01         George Sisler  1565   4528  0.345627     0.340391  1640.88   \n",
       "ruthba01              Babe Ruth  1831   5314  0.344562     0.340115  1906.88   \n",
       "\n",
       "             beta1  PEP  \n",
       "playerID                 \n",
       "cobbty01   6943.69  0.0  \n",
       "hornsro01  5459.69  0.0  \n",
       "jacksjo01  3425.69  0.0  \n",
       "odoulle01  2282.69  0.0  \n",
       "delahed01  5125.69  0.0  \n",
       "speaktr01  6519.69  0.0  \n",
       "willite01  4900.69  0.0  \n",
       "hamilbi01  4326.69  0.0  \n",
       "sislege01  3179.69  0.0  \n",
       "ruthba01   3699.69  0.0  "
      ]
     },
     "execution_count": 9,
     "metadata": {},
     "output_type": "execute_result"
    }
   ],
   "source": [
    "career_eb.sort_values(['PEP', 'eb_estimate'], ascending=[True, False])[:10]"
   ]
  },
  {
   "cell_type": "code",
   "execution_count": 10,
   "metadata": {
    "collapsed": false,
    "deletable": true,
    "editable": true
   },
   "outputs": [
    {
     "data": {
      "text/html": [
       "<div>\n",
       "<table border=\"1\" class=\"dataframe\">\n",
       "  <thead>\n",
       "    <tr style=\"text-align: right;\">\n",
       "      <th></th>\n",
       "      <th>name</th>\n",
       "      <th>H</th>\n",
       "      <th>AB</th>\n",
       "      <th>average</th>\n",
       "      <th>eb_estimate</th>\n",
       "      <th>alpha1</th>\n",
       "      <th>beta1</th>\n",
       "      <th>PEP</th>\n",
       "    </tr>\n",
       "    <tr>\n",
       "      <th>playerID</th>\n",
       "      <th></th>\n",
       "      <th></th>\n",
       "      <th></th>\n",
       "      <th></th>\n",
       "      <th></th>\n",
       "      <th></th>\n",
       "      <th></th>\n",
       "      <th></th>\n",
       "    </tr>\n",
       "  </thead>\n",
       "  <tbody>\n",
       "    <tr>\n",
       "      <th>falkbi01</th>\n",
       "      <td>Bibb Falk</td>\n",
       "      <td>1463</td>\n",
       "      <td>4652</td>\n",
       "      <td>0.314488</td>\n",
       "      <td>0.311226</td>\n",
       "      <td>1538.88</td>\n",
       "      <td>3405.69</td>\n",
       "      <td>0.0465</td>\n",
       "    </tr>\n",
       "    <tr>\n",
       "      <th>garcino01</th>\n",
       "      <td>Nomar Garciaparra</td>\n",
       "      <td>1747</td>\n",
       "      <td>5586</td>\n",
       "      <td>0.312746</td>\n",
       "      <td>0.310089</td>\n",
       "      <td>1822.88</td>\n",
       "      <td>4055.69</td>\n",
       "      <td>0.0471</td>\n",
       "    </tr>\n",
       "    <tr>\n",
       "      <th>grimera01</th>\n",
       "      <td>Ray Grimes</td>\n",
       "      <td>505</td>\n",
       "      <td>1537</td>\n",
       "      <td>0.328562</td>\n",
       "      <td>0.317495</td>\n",
       "      <td>580.88</td>\n",
       "      <td>1248.69</td>\n",
       "      <td>0.0488</td>\n",
       "    </tr>\n",
       "    <tr>\n",
       "      <th>pujolal01</th>\n",
       "      <td>Albert Pujols</td>\n",
       "      <td>2825</td>\n",
       "      <td>9138</td>\n",
       "      <td>0.309149</td>\n",
       "      <td>0.307604</td>\n",
       "      <td>2900.88</td>\n",
       "      <td>6529.69</td>\n",
       "      <td>0.0542</td>\n",
       "    </tr>\n",
       "    <tr>\n",
       "      <th>millebi02</th>\n",
       "      <td>Bing Miller</td>\n",
       "      <td>1934</td>\n",
       "      <td>6212</td>\n",
       "      <td>0.311333</td>\n",
       "      <td>0.308995</td>\n",
       "      <td>2009.88</td>\n",
       "      <td>4494.69</td>\n",
       "      <td>0.0548</td>\n",
       "    </tr>\n",
       "    <tr>\n",
       "      <th>tiernmi01</th>\n",
       "      <td>Mike Tiernan</td>\n",
       "      <td>1717</td>\n",
       "      <td>5499</td>\n",
       "      <td>0.312239</td>\n",
       "      <td>0.309567</td>\n",
       "      <td>1792.88</td>\n",
       "      <td>3998.69</td>\n",
       "      <td>0.0574</td>\n",
       "    </tr>\n",
       "    <tr>\n",
       "      <th>harrijo03</th>\n",
       "      <td>Joe Harris</td>\n",
       "      <td>963</td>\n",
       "      <td>3035</td>\n",
       "      <td>0.317298</td>\n",
       "      <td>0.312204</td>\n",
       "      <td>1038.88</td>\n",
       "      <td>2288.69</td>\n",
       "      <td>0.0638</td>\n",
       "    </tr>\n",
       "    <tr>\n",
       "      <th>lindsfr01</th>\n",
       "      <td>Freddie Lindstrom</td>\n",
       "      <td>1747</td>\n",
       "      <td>5611</td>\n",
       "      <td>0.311353</td>\n",
       "      <td>0.308776</td>\n",
       "      <td>1822.88</td>\n",
       "      <td>4080.69</td>\n",
       "      <td>0.0711</td>\n",
       "    </tr>\n",
       "    <tr>\n",
       "      <th>everibi01</th>\n",
       "      <td>Bill Everitt</td>\n",
       "      <td>902</td>\n",
       "      <td>2842</td>\n",
       "      <td>0.317382</td>\n",
       "      <td>0.311966</td>\n",
       "      <td>977.88</td>\n",
       "      <td>2156.69</td>\n",
       "      <td>0.0728</td>\n",
       "    </tr>\n",
       "    <tr>\n",
       "      <th>bottoji01</th>\n",
       "      <td>Jim Bottomley</td>\n",
       "      <td>2313</td>\n",
       "      <td>7471</td>\n",
       "      <td>0.309597</td>\n",
       "      <td>0.307704</td>\n",
       "      <td>2388.88</td>\n",
       "      <td>5374.69</td>\n",
       "      <td>0.0734</td>\n",
       "    </tr>\n",
       "    <tr>\n",
       "      <th>alouma01</th>\n",
       "      <td>Matty Alou</td>\n",
       "      <td>1702</td>\n",
       "      <td>5465</td>\n",
       "      <td>0.311436</td>\n",
       "      <td>0.308790</td>\n",
       "      <td>1777.88</td>\n",
       "      <td>3979.69</td>\n",
       "      <td>0.0747</td>\n",
       "    </tr>\n",
       "  </tbody>\n",
       "</table>\n",
       "</div>"
      ],
      "text/plain": [
       "                        name     H    AB   average  eb_estimate   alpha1  \\\n",
       "playerID                                                                   \n",
       "falkbi01           Bibb Falk  1463  4652  0.314488     0.311226  1538.88   \n",
       "garcino01  Nomar Garciaparra  1747  5586  0.312746     0.310089  1822.88   \n",
       "grimera01         Ray Grimes   505  1537  0.328562     0.317495   580.88   \n",
       "pujolal01      Albert Pujols  2825  9138  0.309149     0.307604  2900.88   \n",
       "millebi02        Bing Miller  1934  6212  0.311333     0.308995  2009.88   \n",
       "tiernmi01       Mike Tiernan  1717  5499  0.312239     0.309567  1792.88   \n",
       "harrijo03         Joe Harris   963  3035  0.317298     0.312204  1038.88   \n",
       "lindsfr01  Freddie Lindstrom  1747  5611  0.311353     0.308776  1822.88   \n",
       "everibi01       Bill Everitt   902  2842  0.317382     0.311966   977.88   \n",
       "bottoji01      Jim Bottomley  2313  7471  0.309597     0.307704  2388.88   \n",
       "alouma01          Matty Alou  1702  5465  0.311436     0.308790  1777.88   \n",
       "\n",
       "             beta1     PEP  \n",
       "playerID                    \n",
       "falkbi01   3405.69  0.0465  \n",
       "garcino01  4055.69  0.0471  \n",
       "grimera01  1248.69  0.0488  \n",
       "pujolal01  6529.69  0.0542  \n",
       "millebi02  4494.69  0.0548  \n",
       "tiernmi01  3998.69  0.0574  \n",
       "harrijo03  2288.69  0.0638  \n",
       "lindsfr01  4080.69  0.0711  \n",
       "everibi01  2156.69  0.0728  \n",
       "bottoji01  5374.69  0.0734  \n",
       "alouma01   3979.69  0.0747  "
      ]
     },
     "execution_count": 10,
     "metadata": {},
     "output_type": "execute_result"
    }
   ],
   "source": [
    "career_eb.sort_values(['PEP', 'eb_estimate'], ascending=[True, False])[90:101]"
   ]
  },
  {
   "cell_type": "code",
   "execution_count": 11,
   "metadata": {
    "collapsed": false,
    "deletable": true,
    "editable": true
   },
   "outputs": [
    {
     "name": "stdout",
     "output_type": "stream",
     "text": [
      "1.3452\n",
      "0.013452\n"
     ]
    }
   ],
   "source": [
    "top_players = career_eb.sort_values('PEP')[:100]\n",
    "\n",
    "# number of false positives we'd expect in top 100\n",
    "print(top_players['PEP'].sum())\n",
    "\n",
    "# average PEP of top 100\n",
    "print(top_players['PEP'].mean())"
   ]
  },
  {
   "cell_type": "code",
   "execution_count": 12,
   "metadata": {
    "collapsed": false,
    "deletable": true,
    "editable": true
   },
   "outputs": [
    {
     "name": "stdout",
     "output_type": "stream",
     "text": [
      "6e-05\n",
      "0.1402055\n"
     ]
    }
   ],
   "source": [
    "# average PEP of top 50\n",
    "print(career_eb.sort_values('PEP')[:50]['PEP'].mean())\n",
    "\n",
    "# average PEP of top 200\n",
    "print(career_eb.sort_values('PEP')[:200]['PEP'].mean())"
   ]
  },
  {
   "cell_type": "markdown",
   "metadata": {
    "deletable": true,
    "editable": true
   },
   "source": [
    "## Section 5.4 - Q-values"
   ]
  },
  {
   "cell_type": "code",
   "execution_count": 13,
   "metadata": {
    "collapsed": false,
    "deletable": true,
    "editable": true
   },
   "outputs": [
    {
     "data": {
      "text/html": [
       "<div>\n",
       "<table border=\"1\" class=\"dataframe\">\n",
       "  <thead>\n",
       "    <tr style=\"text-align: right;\">\n",
       "      <th></th>\n",
       "      <th>name</th>\n",
       "      <th>H</th>\n",
       "      <th>AB</th>\n",
       "      <th>average</th>\n",
       "      <th>eb_estimate</th>\n",
       "      <th>alpha1</th>\n",
       "      <th>beta1</th>\n",
       "      <th>PEP</th>\n",
       "      <th>qvalue</th>\n",
       "    </tr>\n",
       "    <tr>\n",
       "      <th>playerID</th>\n",
       "      <th></th>\n",
       "      <th></th>\n",
       "      <th></th>\n",
       "      <th></th>\n",
       "      <th></th>\n",
       "      <th></th>\n",
       "      <th></th>\n",
       "      <th></th>\n",
       "      <th></th>\n",
       "    </tr>\n",
       "  </thead>\n",
       "  <tbody>\n",
       "    <tr>\n",
       "      <th>odoulle01</th>\n",
       "      <td>Lefty O'Doul</td>\n",
       "      <td>1126</td>\n",
       "      <td>3192</td>\n",
       "      <td>0.352757</td>\n",
       "      <td>0.344915</td>\n",
       "      <td>1201.88</td>\n",
       "      <td>2282.69</td>\n",
       "      <td>0.0</td>\n",
       "      <td>0.0</td>\n",
       "    </tr>\n",
       "    <tr>\n",
       "      <th>oneilti01</th>\n",
       "      <td>Tip O'Neill</td>\n",
       "      <td>1289</td>\n",
       "      <td>3882</td>\n",
       "      <td>0.332045</td>\n",
       "      <td>0.326951</td>\n",
       "      <td>1364.88</td>\n",
       "      <td>2809.69</td>\n",
       "      <td>0.0</td>\n",
       "      <td>0.0</td>\n",
       "    </tr>\n",
       "    <tr>\n",
       "      <th>ricesa01</th>\n",
       "      <td>Sam Rice</td>\n",
       "      <td>2925</td>\n",
       "      <td>9064</td>\n",
       "      <td>0.322705</td>\n",
       "      <td>0.320724</td>\n",
       "      <td>3000.88</td>\n",
       "      <td>6355.69</td>\n",
       "      <td>0.0</td>\n",
       "      <td>0.0</td>\n",
       "    </tr>\n",
       "    <tr>\n",
       "      <th>hamilbi01</th>\n",
       "      <td>Billy Hamilton</td>\n",
       "      <td>2158</td>\n",
       "      <td>6268</td>\n",
       "      <td>0.344288</td>\n",
       "      <td>0.340501</td>\n",
       "      <td>2233.88</td>\n",
       "      <td>4326.69</td>\n",
       "      <td>0.0</td>\n",
       "      <td>0.0</td>\n",
       "    </tr>\n",
       "    <tr>\n",
       "      <th>foxxji01</th>\n",
       "      <td>Jimmie Foxx</td>\n",
       "      <td>2418</td>\n",
       "      <td>7443</td>\n",
       "      <td>0.324869</td>\n",
       "      <td>0.322391</td>\n",
       "      <td>2493.88</td>\n",
       "      <td>5241.69</td>\n",
       "      <td>0.0</td>\n",
       "      <td>0.0</td>\n",
       "    </tr>\n",
       "  </tbody>\n",
       "</table>\n",
       "</div>"
      ],
      "text/plain": [
       "                     name     H    AB   average  eb_estimate   alpha1  \\\n",
       "playerID                                                                \n",
       "odoulle01    Lefty O'Doul  1126  3192  0.352757     0.344915  1201.88   \n",
       "oneilti01     Tip O'Neill  1289  3882  0.332045     0.326951  1364.88   \n",
       "ricesa01         Sam Rice  2925  9064  0.322705     0.320724  3000.88   \n",
       "hamilbi01  Billy Hamilton  2158  6268  0.344288     0.340501  2233.88   \n",
       "foxxji01      Jimmie Foxx  2418  7443  0.324869     0.322391  2493.88   \n",
       "\n",
       "             beta1  PEP  qvalue  \n",
       "playerID                         \n",
       "odoulle01  2282.69  0.0     0.0  \n",
       "oneilti01  2809.69  0.0     0.0  \n",
       "ricesa01   6355.69  0.0     0.0  \n",
       "hamilbi01  4326.69  0.0     0.0  \n",
       "foxxji01   5241.69  0.0     0.0  "
      ]
     },
     "execution_count": 13,
     "metadata": {},
     "output_type": "execute_result"
    }
   ],
   "source": [
    "career_eb = career_eb.sort_values('PEP').assign(qvalue = lambda df: df['PEP'].cumsum())\n",
    "career_eb.head()"
   ]
  },
  {
   "cell_type": "markdown",
   "metadata": {
    "deletable": true,
    "editable": true
   },
   "source": [
    "How many players do we let into the Hall of Fame if we set the False Discovery Rate to 5%?\n",
    "\n",
    "What about 1%?"
   ]
  },
  {
   "cell_type": "code",
   "execution_count": 14,
   "metadata": {
    "collapsed": false,
    "deletable": true,
    "editable": true
   },
   "outputs": [
    {
     "name": "stdout",
     "output_type": "stream",
     "text": [
      "68\n",
      "55\n"
     ]
    }
   ],
   "source": [
    "hall_of_fame = career_eb.query(\"qvalue < .05\")\n",
    "print(len(hall_of_fame))\n",
    "\n",
    "strict_hall_of_fame = career_eb.query(\"qvalue < .01\")\n",
    "print(len(strict_hall_of_fame))"
   ]
  },
  {
   "cell_type": "markdown",
   "metadata": {
    "deletable": true,
    "editable": true
   },
   "source": [
    "### Figure 5.4"
   ]
  },
  {
   "cell_type": "markdown",
   "metadata": {
    "deletable": true,
    "editable": true
   },
   "source": [
    "Feel like there has to be an easier way to make this plot. If you figure it out, let me know."
   ]
  },
  {
   "cell_type": "code",
   "execution_count": 15,
   "metadata": {
    "collapsed": false,
    "deletable": true,
    "editable": true
   },
   "outputs": [
    {
     "data": {
      "text/plain": [
       "<matplotlib.text.Text at 0x10d536da0>"
      ]
     },
     "execution_count": 15,
     "metadata": {},
     "output_type": "execute_result"
    },
    {
     "data": {
      "image/png": "[encoded data removed]",
      "text/plain": [
       "<matplotlib.figure.Figure at 0x10d513978>"
      ]
     },
     "metadata": {},
     "output_type": "display_data"
    }
   ],
   "source": [
    "qvalues = career_eb.reset_index()['qvalue']\n",
    "\n",
    "plt.figure(figsize=(8, 6))\n",
    "plt.plot(qvalues.values, qvalues.index)\n",
    "plt.xlim(-.005, .5)\n",
    "plt.ylim(0, 250)\n",
    "plt.xlabel('q-value threshold')\n",
    "plt.ylabel('Number of players included at this threshold')"
   ]
  },
  {
   "cell_type": "markdown",
   "metadata": {
    "deletable": true,
    "editable": true
   },
   "source": [
    "## Section 5.5 - Frequentists and Bayesians; meeting in the middle\n",
    "No code or plots in this section"
   ]
  }
 ],
 "metadata": {
  "kernelspec": {
   "display_name": "Python 3",
   "language": "python",
   "name": "python3"
  },
  "language_info": {
   "codemirror_mode": {
    "name": "ipython",
    "version": 3
   },
   "file_extension": ".py",
   "mimetype": "text/x-python",
   "name": "python",
   "nbconvert_exporter": "python",
   "pygments_lexer": "ipython3",
   "version": "3.6.0"
  }
 },
 "nbformat": 4,
 "nbformat_minor": 2
}
