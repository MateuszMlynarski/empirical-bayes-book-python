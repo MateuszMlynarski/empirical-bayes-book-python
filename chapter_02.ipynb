{
 "cells": [
  {
   "cell_type": "markdown",
   "metadata": {
    "deletable": true,
    "editable": true
   },
   "source": [
    "# Chapter 02"
   ]
  },
  {
   "cell_type": "markdown",
   "metadata": {
    "deletable": true,
    "editable": true
   },
   "source": [
    "### Setup Environment"
   ]
  },
  {
   "cell_type": "code",
   "execution_count": 36,
   "metadata": {
    "collapsed": false,
    "deletable": true,
    "editable": true
   },
   "outputs": [],
   "source": [
    "import pandas as pd\n",
    "import numpy as np\n",
    "import matplotlib.pyplot as plt\n",
    "import scipy.stats as ss\n",
    "from numpy.random import beta, binomial\n",
    "\n",
    "%matplotlib inline"
   ]
  },
  {
   "cell_type": "markdown",
   "metadata": {
    "deletable": true,
    "editable": true
   },
   "source": [
    "## Section 2.3"
   ]
  },
  {
   "cell_type": "code",
   "execution_count": 33,
   "metadata": {
    "collapsed": false,
    "deletable": true,
    "editable": true
   },
   "outputs": [
    {
     "name": "stdout",
     "output_type": "stream",
     "text": [
      "Shape: 10000000 x 2\n",
      "   hits  true_average\n",
      "0    69      0.266606\n",
      "1    75      0.282797\n",
      "2    86      0.251707\n",
      "3    92      0.330962\n",
      "4    81      0.284658\n"
     ]
    }
   ],
   "source": [
    "num_trials = int(10e6)\n",
    "\n",
    "true_average = beta(81, 219, size=num_trials)\n",
    "hits = binomial(300, true_average, size=num_trials)\n",
    "\n",
    "simulations = pd.DataFrame({'true_average': true_average,\n",
    "                            'hits': hits})\n",
    "\n",
    "print('Shape: {} x {}'.format(*simulations.shape))\n",
    "print(simulations.head())"
   ]
  },
  {
   "cell_type": "code",
   "execution_count": 34,
   "metadata": {
    "collapsed": false,
    "deletable": true,
    "editable": true
   },
   "outputs": [
    {
     "name": "stdout",
     "output_type": "stream",
     "text": [
      "Shape: 79960 x 2\n",
      "     hits  true_average\n",
      "92    100      0.324129\n",
      "114   100      0.313590\n",
      "454   100      0.326569\n",
      "665   100      0.311135\n",
      "784   100      0.317617\n"
     ]
    }
   ],
   "source": [
    "hit_100 = simulations[simulations['hits'] == 100]\n",
    "\n",
    "print('Shape: {} x {}'.format(*hit_100.shape))\n",
    "print(hit_100.head())"
   ]
  },
  {
   "cell_type": "markdown",
   "metadata": {
    "deletable": true,
    "editable": true
   },
   "source": [
    "### Figure 2.4"
   ]
  },
  {
   "cell_type": "code",
   "execution_count": 53,
   "metadata": {
    "collapsed": false,
    "deletable": true,
    "editable": true
   },
   "outputs": [
    {
     "data": {
      "image/png": "[encoded data removed]",
      "text/plain": [
       "<matplotlib.figure.Figure at 0x122467748>"
      ]
     },
     "metadata": {},
     "output_type": "display_data"
    }
   ],
   "source": [
    "# density plots are annoyingly difficult in matplotlib\n",
    "# if you want one, you should use seaborn's kdeplot\n",
    "hit_100['true_average'].plot(kind='hist', bins=50)\n",
    "plt.xlabel('Batting average of players who got 100 H / 300 AB')\n",
    "plt.title('');"
   ]
  },
  {
   "cell_type": "markdown",
   "metadata": {
    "deletable": true,
    "editable": true
   },
   "source": [
    "### Figure 2.5"
   ]
  },
  {
   "cell_type": "code",
   "execution_count": 52,
   "metadata": {
    "collapsed": false,
    "deletable": true,
    "editable": true
   },
   "outputs": [
    {
     "data": {
      "image/png": "[encoded data removed]",
      "text/plain": [
       "<matplotlib.figure.Figure at 0x110d1ca90>"
      ]
     },
     "metadata": {},
     "output_type": "display_data"
    }
   ],
   "source": [
    "hits_filter = simulations['hits'].isin([60, 80, 100])\n",
    "\n",
    "(simulations[hits_filter]\n",
    " .groupby('hits')['true_average']\n",
    " .plot(kind='hist', bins=50, alpha=.5, legend=True)\n",
    ");\n",
    "# note that we're not using density here"
   ]
  }
 ],
 "metadata": {
  "kernelspec": {
   "display_name": "Python 3",
   "language": "python",
   "name": "python3"
  },
  "language_info": {
   "codemirror_mode": {
    "name": "ipython",
    "version": 3
   },
   "file_extension": ".py",
   "mimetype": "text/x-python",
   "name": "python",
   "nbconvert_exporter": "python",
   "pygments_lexer": "ipython3",
   "version": "3.6.0"
  }
 },
 "nbformat": 4,
 "nbformat_minor": 2
}
