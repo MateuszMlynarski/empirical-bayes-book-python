{
 "cells": [
  {
   "cell_type": "markdown",
   "metadata": {
    "deletable": true,
    "editable": true
   },
   "source": [
    "# Chapter 04\n",
    "### Setup Environment"
   ]
  },
  {
   "cell_type": "code",
   "execution_count": 1,
   "metadata": {
    "collapsed": true,
    "deletable": true,
    "editable": true
   },
   "outputs": [],
   "source": [
    "import pandas as pd\n",
    "import numpy as np\n",
    "import matplotlib.pyplot as plt\n",
    "import scipy.stats as ss\n",
    "from numpy.random import beta, binomial\n",
    "\n",
    "pd.set_option('display.max_columns', 50)\n",
    "pd.set_option('display.max_rows', 100)\n",
    "\n",
    "%matplotlib inline\n",
    "\n",
    "# read into dataframes\n",
    "Batting = pd.read_csv('data/Batting.csv', index_col=['playerID', 'yearID'])\n",
    "Pitching = pd.read_csv('data/Pitching.csv', index_col=['playerID', 'yearID'])\n",
    "Master = pd.read_csv('data/Master.csv', index_col='playerID')\n",
    "\n",
    "career = (Batting\n",
    "          .query(\"AB > 0\")\n",
    "          .join(Pitching, how='left', rsuffix='_')\n",
    "          .query(\"teamID_ != teamID_\")  # IS NULL hack for `query` method -> only Batters\n",
    "          .groupby(level=0)  # group by index -> playerID\n",
    "          .agg({'H': np.sum, 'AB': np.sum})\n",
    "          .assign(average = lambda x: x['H'] / x['AB'])\n",
    "         )\n",
    "\n",
    "career = (career\n",
    "          .join(Master)\n",
    "          .assign(name = lambda x: x['nameFirst'] + ' ' + x['nameLast'])\n",
    "          [['name', 'H', 'AB', 'average']]  # select only columns we want\n",
    "         )\n",
    "\n",
    "# priors estimated in chapter 3\n",
    "alpha0 = 75.88\n",
    "beta0 = 216.69\n",
    "\n",
    "eb_estimate_func = lambda x: (x['H'] + alpha0) / (x['AB'] + alpha0 + beta0)\n",
    "\n",
    "career_eb = career.assign(eb_estimate=eb_estimate_func)"
   ]
  },
  {
   "cell_type": "markdown",
   "metadata": {
    "deletable": true,
    "editable": true
   },
   "source": [
    "## Section 4.2 - Posterior Distribution"
   ]
  },
  {
   "cell_type": "code",
   "execution_count": 2,
   "metadata": {
    "collapsed": false,
    "deletable": true,
    "editable": true
   },
   "outputs": [
    {
     "data": {
      "text/html": [
       "<div>\n",
       "<table border=\"1\" class=\"dataframe\">\n",
       "  <thead>\n",
       "    <tr style=\"text-align: right;\">\n",
       "      <th></th>\n",
       "      <th>name</th>\n",
       "      <th>H</th>\n",
       "      <th>AB</th>\n",
       "      <th>average</th>\n",
       "      <th>eb_estimate</th>\n",
       "      <th>alpha1</th>\n",
       "      <th>beta1</th>\n",
       "    </tr>\n",
       "    <tr>\n",
       "      <th>playerID</th>\n",
       "      <th></th>\n",
       "      <th></th>\n",
       "      <th></th>\n",
       "      <th></th>\n",
       "      <th></th>\n",
       "      <th></th>\n",
       "      <th></th>\n",
       "    </tr>\n",
       "  </thead>\n",
       "  <tbody>\n",
       "    <tr>\n",
       "      <th>aaronha01</th>\n",
       "      <td>Hank Aaron</td>\n",
       "      <td>3771</td>\n",
       "      <td>12364</td>\n",
       "      <td>0.304998</td>\n",
       "      <td>0.303943</td>\n",
       "      <td>3846.88</td>\n",
       "      <td>8809.69</td>\n",
       "    </tr>\n",
       "    <tr>\n",
       "      <th>aaronto01</th>\n",
       "      <td>Tommie Aaron</td>\n",
       "      <td>216</td>\n",
       "      <td>944</td>\n",
       "      <td>0.228814</td>\n",
       "      <td>0.236040</td>\n",
       "      <td>291.88</td>\n",
       "      <td>944.69</td>\n",
       "    </tr>\n",
       "    <tr>\n",
       "      <th>abadan01</th>\n",
       "      <td>Andy Abad</td>\n",
       "      <td>2</td>\n",
       "      <td>21</td>\n",
       "      <td>0.095238</td>\n",
       "      <td>0.248366</td>\n",
       "      <td>77.88</td>\n",
       "      <td>235.69</td>\n",
       "    </tr>\n",
       "    <tr>\n",
       "      <th>abadijo01</th>\n",
       "      <td>John Abadie</td>\n",
       "      <td>11</td>\n",
       "      <td>49</td>\n",
       "      <td>0.224490</td>\n",
       "      <td>0.254355</td>\n",
       "      <td>86.88</td>\n",
       "      <td>254.69</td>\n",
       "    </tr>\n",
       "    <tr>\n",
       "      <th>abbated01</th>\n",
       "      <td>Ed Abbaticchio</td>\n",
       "      <td>772</td>\n",
       "      <td>3044</td>\n",
       "      <td>0.253614</td>\n",
       "      <td>0.254117</td>\n",
       "      <td>847.88</td>\n",
       "      <td>2488.69</td>\n",
       "    </tr>\n",
       "  </tbody>\n",
       "</table>\n",
       "</div>"
      ],
      "text/plain": [
       "                     name     H     AB   average  eb_estimate   alpha1  \\\n",
       "playerID                                                                 \n",
       "aaronha01      Hank Aaron  3771  12364  0.304998     0.303943  3846.88   \n",
       "aaronto01    Tommie Aaron   216    944  0.228814     0.236040   291.88   \n",
       "abadan01        Andy Abad     2     21  0.095238     0.248366    77.88   \n",
       "abadijo01     John Abadie    11     49  0.224490     0.254355    86.88   \n",
       "abbated01  Ed Abbaticchio   772   3044  0.253614     0.254117   847.88   \n",
       "\n",
       "             beta1  \n",
       "playerID            \n",
       "aaronha01  8809.69  \n",
       "aaronto01   944.69  \n",
       "abadan01    235.69  \n",
       "abadijo01   254.69  \n",
       "abbated01  2488.69  "
      ]
     },
     "execution_count": 2,
     "metadata": {},
     "output_type": "execute_result"
    }
   ],
   "source": [
    "career_eb = career_eb.assign(alpha1 = lambda x: alpha0 + x['H'],\n",
    "                             beta1 = lambda x: beta0 + x['AB'] - x['H'])\n",
    "career_eb.head()"
   ]
  },
  {
   "cell_type": "markdown",
   "metadata": {
    "deletable": true,
    "editable": true
   },
   "source": [
    "### Figure 4.1"
   ]
  },
  {
   "cell_type": "markdown",
   "metadata": {
    "deletable": true,
    "editable": true
   },
   "source": [
    "#### Setup: Yankees"
   ]
  },
  {
   "cell_type": "code",
   "execution_count": 3,
   "metadata": {
    "collapsed": false,
    "deletable": true,
    "editable": true
   },
   "outputs": [
    {
     "data": {
      "text/html": [
       "<div>\n",
       "<table border=\"1\" class=\"dataframe\">\n",
       "  <thead>\n",
       "    <tr style=\"text-align: right;\">\n",
       "      <th></th>\n",
       "      <th>name</th>\n",
       "      <th>H</th>\n",
       "      <th>AB</th>\n",
       "      <th>average</th>\n",
       "      <th>eb_estimate</th>\n",
       "      <th>alpha1</th>\n",
       "      <th>beta1</th>\n",
       "    </tr>\n",
       "    <tr>\n",
       "      <th>playerID</th>\n",
       "      <th></th>\n",
       "      <th></th>\n",
       "      <th></th>\n",
       "      <th></th>\n",
       "      <th></th>\n",
       "      <th></th>\n",
       "      <th></th>\n",
       "    </tr>\n",
       "  </thead>\n",
       "  <tbody>\n",
       "    <tr>\n",
       "      <th>brosisc01</th>\n",
       "      <td>Scott Brosius</td>\n",
       "      <td>1001</td>\n",
       "      <td>3889</td>\n",
       "      <td>0.257393</td>\n",
       "      <td>0.257530</td>\n",
       "      <td>1076.88</td>\n",
       "      <td>3104.69</td>\n",
       "    </tr>\n",
       "    <tr>\n",
       "      <th>jeterde01</th>\n",
       "      <td>Derek Jeter</td>\n",
       "      <td>3465</td>\n",
       "      <td>11195</td>\n",
       "      <td>0.309513</td>\n",
       "      <td>0.308236</td>\n",
       "      <td>3540.88</td>\n",
       "      <td>7946.69</td>\n",
       "    </tr>\n",
       "    <tr>\n",
       "      <th>knoblch01</th>\n",
       "      <td>Chuck Knoblauch</td>\n",
       "      <td>1839</td>\n",
       "      <td>6366</td>\n",
       "      <td>0.288878</td>\n",
       "      <td>0.287581</td>\n",
       "      <td>1914.88</td>\n",
       "      <td>4743.69</td>\n",
       "    </tr>\n",
       "    <tr>\n",
       "      <th>martiti02</th>\n",
       "      <td>Tino Martinez</td>\n",
       "      <td>1925</td>\n",
       "      <td>7111</td>\n",
       "      <td>0.270707</td>\n",
       "      <td>0.270259</td>\n",
       "      <td>2000.88</td>\n",
       "      <td>5402.69</td>\n",
       "    </tr>\n",
       "    <tr>\n",
       "      <th>posadjo01</th>\n",
       "      <td>Jorge Posada</td>\n",
       "      <td>1664</td>\n",
       "      <td>6092</td>\n",
       "      <td>0.273145</td>\n",
       "      <td>0.272513</td>\n",
       "      <td>1739.88</td>\n",
       "      <td>4644.69</td>\n",
       "    </tr>\n",
       "    <tr>\n",
       "      <th>strawda01</th>\n",
       "      <td>Darryl Strawberry</td>\n",
       "      <td>1401</td>\n",
       "      <td>5418</td>\n",
       "      <td>0.258583</td>\n",
       "      <td>0.258622</td>\n",
       "      <td>1476.88</td>\n",
       "      <td>4233.69</td>\n",
       "    </tr>\n",
       "    <tr>\n",
       "      <th>willibe02</th>\n",
       "      <td>Bernie Williams</td>\n",
       "      <td>2336</td>\n",
       "      <td>7869</td>\n",
       "      <td>0.296861</td>\n",
       "      <td>0.295517</td>\n",
       "      <td>2411.88</td>\n",
       "      <td>5749.69</td>\n",
       "    </tr>\n",
       "  </tbody>\n",
       "</table>\n",
       "</div>"
      ],
      "text/plain": [
       "                        name     H     AB   average  eb_estimate   alpha1  \\\n",
       "playerID                                                                    \n",
       "brosisc01      Scott Brosius  1001   3889  0.257393     0.257530  1076.88   \n",
       "jeterde01        Derek Jeter  3465  11195  0.309513     0.308236  3540.88   \n",
       "knoblch01    Chuck Knoblauch  1839   6366  0.288878     0.287581  1914.88   \n",
       "martiti02      Tino Martinez  1925   7111  0.270707     0.270259  2000.88   \n",
       "posadjo01       Jorge Posada  1664   6092  0.273145     0.272513  1739.88   \n",
       "strawda01  Darryl Strawberry  1401   5418  0.258583     0.258622  1476.88   \n",
       "willibe02    Bernie Williams  2336   7869  0.296861     0.295517  2411.88   \n",
       "\n",
       "             beta1  \n",
       "playerID            \n",
       "brosisc01  3104.69  \n",
       "jeterde01  7946.69  \n",
       "knoblch01  4743.69  \n",
       "martiti02  5402.69  \n",
       "posadjo01  4644.69  \n",
       "strawda01  4233.69  \n",
       "willibe02  5749.69  "
      ]
     },
     "execution_count": 3,
     "metadata": {},
     "output_type": "execute_result"
    }
   ],
   "source": [
    "drobs_fav_yankees = ['willibe02', 'strawda01','knoblch01',\n",
    "                     'jeterde01', 'posadjo01', 'martiti02',\n",
    "                     'brosisc01']\n",
    "\n",
    "yankee_1998_career = career_eb.loc[drobs_fav_yankees].sort_index()\n",
    "yankee_1998_career"
   ]
  },
  {
   "cell_type": "markdown",
   "metadata": {
    "deletable": true,
    "editable": true
   },
   "source": [
    "Python doesn't have an equivalent of R's `qbeta` function. We'll have to roll our own."
   ]
  },
  {
   "cell_type": "code",
   "execution_count": 4,
   "metadata": {
    "collapsed": false,
    "deletable": true,
    "editable": true
   },
   "outputs": [],
   "source": [
    "# TODO: Change this to use np.beta\n",
    "def qbeta(alpha, beta):\n",
    "    \"\"\"\n",
    "    Generate the probability density function of the Beta\n",
    "    distribution for a given alpha and beta.\n",
    "    \n",
    "    Parameters\n",
    "    ----------\n",
    "    alpha: float\n",
    "    beta: float\n",
    "    \n",
    "    Returns\n",
    "    -------\n",
    "    tuple: x, Beta pdf\n",
    "    \"\"\"\n",
    "    x = np.linspace(ss.beta.ppf(0.01, alpha, beta),\n",
    "                    ss.beta.ppf(0.99, alpha, beta), num=100)\n",
    "    return (x, ss.beta.pdf(x, alpha, beta))"
   ]
  },
  {
   "cell_type": "markdown",
   "metadata": {
    "deletable": true,
    "editable": true
   },
   "source": [
    "It feels like there has to be a better way to do this. If you find one, let me know."
   ]
  },
  {
   "cell_type": "code",
   "execution_count": 5,
   "metadata": {
    "collapsed": false,
    "deletable": true,
    "editable": true
   },
   "outputs": [
    {
     "data": {
      "text/plain": [
       "<matplotlib.text.Text at 0x109028550>"
      ]
     },
     "execution_count": 5,
     "metadata": {},
     "output_type": "execute_result"
    },
    {
     "data": {
      "image/png": "[encoded data removed]",
      "text/plain": [
       "<matplotlib.figure.Figure at 0x10affe048>"
      ]
     },
     "metadata": {},
     "output_type": "display_data"
    }
   ],
   "source": [
    "plt.figure(figsize=(8, 10))\n",
    "for id_, row in yankee_1998_career.iterrows():\n",
    "    plt.plot(*qbeta(row['alpha1'], row['beta1']), label=row['name'])\n",
    "\n",
    "plt.plot(*qbeta(alpha0, beta0), 'k--')\n",
    "plt.legend()\n",
    "plt.xlabel('Batting Average')\n",
    "plt.ylabel('density');"
   ]
  },
  {
   "cell_type": "markdown",
   "metadata": {
    "deletable": true,
    "editable": true
   },
   "source": [
    "## Section 4.3 - Credible Intervals"
   ]
  },
  {
   "cell_type": "code",
   "execution_count": 6,
   "metadata": {
    "collapsed": false,
    "deletable": true,
    "editable": true
   },
   "outputs": [],
   "source": [
    "def qbeta(alpha, beta_, q=50., size=10000):\n",
    "    return np.percentile(beta(alpha, beta_, size=size), q=q)"
   ]
  },
  {
   "cell_type": "markdown",
   "metadata": {
    "deletable": true,
    "editable": true
   },
   "source": [
    "### TODO: Figure 4.2\n",
    "### TODO: Figure 4.3"
   ]
  },
  {
   "cell_type": "code",
   "execution_count": 7,
   "metadata": {
    "collapsed": false,
    "deletable": true,
    "editable": true
   },
   "outputs": [
    {
     "data": {
      "text/html": [
       "<div>\n",
       "<table border=\"1\" class=\"dataframe\">\n",
       "  <thead>\n",
       "    <tr style=\"text-align: right;\">\n",
       "      <th></th>\n",
       "      <th>name</th>\n",
       "      <th>H</th>\n",
       "      <th>AB</th>\n",
       "      <th>average</th>\n",
       "      <th>eb_estimate</th>\n",
       "      <th>alpha1</th>\n",
       "      <th>beta1</th>\n",
       "      <th>low</th>\n",
       "      <th>high</th>\n",
       "    </tr>\n",
       "    <tr>\n",
       "      <th>playerID</th>\n",
       "      <th></th>\n",
       "      <th></th>\n",
       "      <th></th>\n",
       "      <th></th>\n",
       "      <th></th>\n",
       "      <th></th>\n",
       "      <th></th>\n",
       "      <th></th>\n",
       "      <th></th>\n",
       "    </tr>\n",
       "  </thead>\n",
       "  <tbody>\n",
       "    <tr>\n",
       "      <th>brosisc01</th>\n",
       "      <td>Scott Brosius</td>\n",
       "      <td>1001</td>\n",
       "      <td>3889</td>\n",
       "      <td>0.257393</td>\n",
       "      <td>0.257530</td>\n",
       "      <td>1076.88</td>\n",
       "      <td>3104.69</td>\n",
       "      <td>0.244244</td>\n",
       "      <td>0.270904</td>\n",
       "    </tr>\n",
       "    <tr>\n",
       "      <th>jeterde01</th>\n",
       "      <td>Derek Jeter</td>\n",
       "      <td>3465</td>\n",
       "      <td>11195</td>\n",
       "      <td>0.309513</td>\n",
       "      <td>0.308236</td>\n",
       "      <td>3540.88</td>\n",
       "      <td>7946.69</td>\n",
       "      <td>0.299789</td>\n",
       "      <td>0.316680</td>\n",
       "    </tr>\n",
       "    <tr>\n",
       "      <th>knoblch01</th>\n",
       "      <td>Chuck Knoblauch</td>\n",
       "      <td>1839</td>\n",
       "      <td>6366</td>\n",
       "      <td>0.288878</td>\n",
       "      <td>0.287581</td>\n",
       "      <td>1914.88</td>\n",
       "      <td>4743.69</td>\n",
       "      <td>0.276539</td>\n",
       "      <td>0.298585</td>\n",
       "    </tr>\n",
       "    <tr>\n",
       "      <th>martiti02</th>\n",
       "      <td>Tino Martinez</td>\n",
       "      <td>1925</td>\n",
       "      <td>7111</td>\n",
       "      <td>0.270707</td>\n",
       "      <td>0.270259</td>\n",
       "      <td>2000.88</td>\n",
       "      <td>5402.69</td>\n",
       "      <td>0.260127</td>\n",
       "      <td>0.280295</td>\n",
       "    </tr>\n",
       "    <tr>\n",
       "      <th>posadjo01</th>\n",
       "      <td>Jorge Posada</td>\n",
       "      <td>1664</td>\n",
       "      <td>6092</td>\n",
       "      <td>0.273145</td>\n",
       "      <td>0.272513</td>\n",
       "      <td>1739.88</td>\n",
       "      <td>4644.69</td>\n",
       "      <td>0.261575</td>\n",
       "      <td>0.283693</td>\n",
       "    </tr>\n",
       "    <tr>\n",
       "      <th>strawda01</th>\n",
       "      <td>Darryl Strawberry</td>\n",
       "      <td>1401</td>\n",
       "      <td>5418</td>\n",
       "      <td>0.258583</td>\n",
       "      <td>0.258622</td>\n",
       "      <td>1476.88</td>\n",
       "      <td>4233.69</td>\n",
       "      <td>0.247376</td>\n",
       "      <td>0.270415</td>\n",
       "    </tr>\n",
       "    <tr>\n",
       "      <th>willibe02</th>\n",
       "      <td>Bernie Williams</td>\n",
       "      <td>2336</td>\n",
       "      <td>7869</td>\n",
       "      <td>0.296861</td>\n",
       "      <td>0.295517</td>\n",
       "      <td>2411.88</td>\n",
       "      <td>5749.69</td>\n",
       "      <td>0.285621</td>\n",
       "      <td>0.305538</td>\n",
       "    </tr>\n",
       "  </tbody>\n",
       "</table>\n",
       "</div>"
      ],
      "text/plain": [
       "                        name     H     AB   average  eb_estimate   alpha1  \\\n",
       "playerID                                                                    \n",
       "brosisc01      Scott Brosius  1001   3889  0.257393     0.257530  1076.88   \n",
       "jeterde01        Derek Jeter  3465  11195  0.309513     0.308236  3540.88   \n",
       "knoblch01    Chuck Knoblauch  1839   6366  0.288878     0.287581  1914.88   \n",
       "martiti02      Tino Martinez  1925   7111  0.270707     0.270259  2000.88   \n",
       "posadjo01       Jorge Posada  1664   6092  0.273145     0.272513  1739.88   \n",
       "strawda01  Darryl Strawberry  1401   5418  0.258583     0.258622  1476.88   \n",
       "willibe02    Bernie Williams  2336   7869  0.296861     0.295517  2411.88   \n",
       "\n",
       "             beta1       low      high  \n",
       "playerID                                \n",
       "brosisc01  3104.69  0.244244  0.270904  \n",
       "jeterde01  7946.69  0.299789  0.316680  \n",
       "knoblch01  4743.69  0.276539  0.298585  \n",
       "martiti02  5402.69  0.260127  0.280295  \n",
       "posadjo01  4644.69  0.261575  0.283693  \n",
       "strawda01  4233.69  0.247376  0.270415  \n",
       "willibe02  5749.69  0.285621  0.305538  "
      ]
     },
     "execution_count": 7,
     "metadata": {},
     "output_type": "execute_result"
    }
   ],
   "source": [
    "yankee_1998_career = (\n",
    "    yankee_1998_career\n",
    "    .assign(low = lambda df: df.apply(lambda x: qbeta(x['alpha1'], x['beta1'], q=2.5), axis=1))\n",
    "    .assign(high = lambda df: df.apply(lambda x: qbeta(x['alpha1'], x['beta1'], q=97.5), axis=1))\n",
    ")\n",
    "\n",
    "yankee_1998_career"
   ]
  },
  {
   "cell_type": "markdown",
   "metadata": {
    "deletable": true,
    "editable": true
   },
   "source": [
    "## Section 4.4 - Credible Intervals and Confidence Intervals"
   ]
  },
  {
   "cell_type": "markdown",
   "metadata": {
    "deletable": true,
    "editable": true
   },
   "source": [
    "### TODO: Figure 4.4"
   ]
  }
 ],
 "metadata": {
  "kernelspec": {
   "display_name": "Python 3",
   "language": "python",
   "name": "python3"
  },
  "language_info": {
   "codemirror_mode": {
    "name": "ipython",
    "version": 3
   },
   "file_extension": ".py",
   "mimetype": "text/x-python",
   "name": "python",
   "nbconvert_exporter": "python",
   "pygments_lexer": "ipython3",
   "version": "3.6.0"
  }
 },
 "nbformat": 4,
 "nbformat_minor": 2
}
